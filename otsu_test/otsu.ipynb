{
 "cells": [
  {
   "cell_type": "code",
   "execution_count": 7,
   "metadata": {},
   "outputs": [],
   "source": [
    "import sys\n",
    "import os\n",
    "\n",
    "# Add the parent directory to the system path\n",
    "sys.path.append(os.path.dirname(os.getcwd()))\n",
    "\n",
    "# Now you can import your module\n",
    "from otsu import findGreatestThreshold\n"
   ]
  },
  {
   "cell_type": "code",
   "execution_count": 8,
   "metadata": {},
   "outputs": [],
   "source": [
    "from PIL import Image\n",
    "from torchvision import transforms\n",
    "from torchvision.transforms import ToPILImage\n",
    "\n",
    "# Open an image file\n",
    "img = Image.open('test.png')\n",
    "\n",
    "# Define the transformation\n",
    "transform = transforms.ToTensor()\n",
    "to_pil = ToPILImage()\n",
    "\n",
    "tensor_img = transform(img)\n",
    "\n",
    "# Reorder the dimensions of the tensor\n",
    "tensor_img = tensor_img.permute(1, 2, 0)\n",
    "\n",
    "img_back = to_pil(findGreatestThreshold(tensor_img))\n",
    "\n",
    "#Now img_back is a PIL Image object\n",
    "img_back.show()\n"
   ]
  }
 ],
 "metadata": {
  "kernelspec": {
   "display_name": "Python 3",
   "language": "python",
   "name": "python3"
  },
  "language_info": {
   "codemirror_mode": {
    "name": "ipython",
    "version": 3
   },
   "file_extension": ".py",
   "mimetype": "text/x-python",
   "name": "python",
   "nbconvert_exporter": "python",
   "pygments_lexer": "ipython3",
   "version": "3.12.6"
  }
 },
 "nbformat": 4,
 "nbformat_minor": 2
}
