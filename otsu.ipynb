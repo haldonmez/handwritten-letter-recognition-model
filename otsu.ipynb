{
 "cells": [
  {
   "cell_type": "code",
   "execution_count": 4,
   "metadata": {},
   "outputs": [],
   "source": [
    "import matplotlib.pyplot as plt\n",
    "import numpy as np\n",
    "import math\n",
    "from torch import nn"
   ]
  },
  {
   "cell_type": "code",
   "execution_count": 5,
   "metadata": {},
   "outputs": [],
   "source": [
    "def findGreatestThreshold(img):\n",
    "  # First we flatten the image to get the 1D matrix.\n",
    "  flatten_image = nn.Flatten()\n",
    "  image_flattened = flatten_image(img)\n",
    "\n",
    "  # Then we get the axial values of the image.\n",
    "  counts, binominal_values= np.histogram(image_flattened, bins=6)\n",
    "  # Counts = The number of times that intensity was displayed\n",
    "  # Binominal_values = The levels of intensity in our case its [0., 0.16666667, 0.33333334, 0.5, 0.66666669, 0.83333331, 1.]\n",
    "\n",
    "  # We get the total weight for our calculations.\n",
    "  total_weight = np.sum(counts)\n",
    "\n",
    "  # We assign an empty list to store the threshold values.\n",
    "  List = []\n",
    "\n",
    "  # We iterate for all the threshold values to get the highest.\n",
    "  for i in range(len(binominal_values)-1):\n",
    "    current_weight = 0\n",
    "    current_intensity = 0\n",
    "    foreground_intensity = 0\n",
    "    foreground_weight = 0\n",
    "\n",
    "    # We iterate for the background calculations.\n",
    "    for j in range(i+1):\n",
    "      current_weight += counts[j]\n",
    "      current_intensity += counts[j]*binominal_values[j]\n",
    "\n",
    "    # We iterate for the foreground calculations.\n",
    "    for k in range(len(binominal_values)-2, i,-1):\n",
    "      foreground_intensity += counts[k]*binominal_values[k]\n",
    "\n",
    "    foreground_weight = total_weight - current_weight\n",
    "\n",
    "    # We calculate the mean intensities for every threshold.\n",
    "    Ub = current_intensity / current_weight\n",
    "    Uf = foreground_intensity / foreground_weight if foreground_weight != 0 else 0.0\n",
    "\n",
    "    # We calculate the weights for every threshold.\n",
    "    Wb = current_weight / total_weight\n",
    "    Wf = 1 - Wb\n",
    "\n",
    "    # We calculate the variance for every threshold.\n",
    "    variance = math.sqrt((Wb*Wf)*((Ub-Uf)*(Ub-Uf)))\n",
    "\n",
    "    # We append the threshold values to the empty list to apply max() and get the optimal threshold value.\n",
    "    List.append(variance)\n",
    "\n",
    "    best_variance = max(List)\n",
    "\n",
    "    return best_variance"
   ]
  },
  {
   "cell_type": "code",
   "execution_count": 9,
   "metadata": {},
   "outputs": [
    {
     "data": {
      "text/plain": [
       "0.2375158817585638"
      ]
     },
     "execution_count": 9,
     "metadata": {},
     "output_type": "execute_result"
    }
   ],
   "source": [
    "from PIL import Image\n",
    "from torchvision import transforms\n",
    "\n",
    "# Open an image file\n",
    "img = Image.open('last_inverted_cropped.png')\n",
    "\n",
    "# Define the transformation\n",
    "transform = transforms.ToTensor()\n",
    "\n",
    "tensor_img = transform(img)\n",
    "\n",
    "findGreatestThreshold(tensor_img)"
   ]
  }
 ],
 "metadata": {
  "kernelspec": {
   "display_name": "Python 3",
   "language": "python",
   "name": "python3"
  },
  "language_info": {
   "codemirror_mode": {
    "name": "ipython",
    "version": 3
   },
   "file_extension": ".py",
   "mimetype": "text/x-python",
   "name": "python",
   "nbconvert_exporter": "python",
   "pygments_lexer": "ipython3",
   "version": "3.12.0"
  }
 },
 "nbformat": 4,
 "nbformat_minor": 2
}
