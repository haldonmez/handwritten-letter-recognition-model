{
  "cells": [
    {
      "cell_type": "code",
      "execution_count": 2,
      "metadata": {
        "id": "9nSiG5sIwfmx"
      },
      "outputs": [],
      "source": [
        "import numpy as np\n",
        "import pandas as pd\n",
        "import matplotlib.pyplot as plt\n",
        "import random\n",
        "import torch\n",
        "from torchvision import datasets\n",
        "from torchvision.transforms import ToTensor\n",
        "from torchvision import datasets, transforms\n",
        "from torchvision.transforms import functional as F\n",
        "from scipy.ndimage import rotate\n",
        "import time\n",
        "from torch import nn\n",
        "from torch.utils.data import DataLoader\n",
        "from torch.utils.data import ConcatDataset\n",
        "from tqdm.auto import tqdm\n",
        "from torchvision.transforms import v2"
      ]
    },
    {
      "cell_type": "code",
      "execution_count": 3,
      "metadata": {
        "colab": {
          "base_uri": "https://localhost:8080/",
          "height": 35
        },
        "id": "OHTe-06zwfm0",
        "outputId": "c608837f-0418-4850-abab-f43dad93965d"
      },
      "outputs": [
        {
          "data": {
            "text/plain": [
              "'cuda'"
            ]
          },
          "execution_count": 3,
          "metadata": {},
          "output_type": "execute_result"
        }
      ],
      "source": [
        "device = \"cuda\" if torch.cuda.is_available() else \"cpu\"\n",
        "device"
      ]
    },
    {
      "cell_type": "code",
      "execution_count": 4,
      "metadata": {
        "colab": {
          "base_uri": "https://localhost:8080/"
        },
        "id": "XgUpCVp3RvKh",
        "outputId": "22696d0a-ca4a-48d8-f96f-1f5fef8d972b"
      },
      "outputs": [
        {
          "name": "stdout",
          "output_type": "stream",
          "text": [
            "{0: 0, 1: 1, 2: 2, 3: 3, 4: 4, 5: 5, 6: 6, 7: 7, 8: 8, 9: 9, 10: 10, 11: 11, 12: 12, 13: 13, 14: 14, 15: 15, 16: 16, 17: 17, 18: 18, 19: 19, 20: 20, 21: 21, 22: 22, 23: 23, 24: 24, 25: 25, 26: 0, 27: 1, 28: 2, 29: 3, 30: 4, 31: 5, 32: 6, 33: 7, 34: 8, 35: 9, 36: 10, 37: 11, 38: 12, 39: 13, 40: 14, 41: 15, 42: 16, 43: 17, 44: 18, 45: 19, 46: 20, 47: 21, 48: 22, 49: 23, 50: 24, 51: 25, 52: 26, 53: 27, 54: 27, 55: 28, 56: 28, 57: 29, 58: 30, 59: 30, 60: 31, 61: 31}\n"
          ]
        }
      ],
      "source": [
        "import string\n",
        "\n",
        "# Create a dictionary for mapping\n",
        "mapping = {}\n",
        "\n",
        "for i in range(26):\n",
        "    mapping[i] = i # Map lowercase letter\n",
        "\n",
        "for i in range(26,52):\n",
        "    mapping[i]=i-26 # Map uppercase letter\n",
        "turkish_letters = {52:26, 53:27, 54:27, 55:28, 56:28, 57:29, 58:30, 59:30, 60:31, 61:31}\n",
        "mapping.update(turkish_letters)\n",
        "print(mapping)\n"
      ]
    },
    {
      "cell_type": "code",
      "execution_count": 5,
      "metadata": {
        "id": "ZnKSA7L1wfm1"
      },
      "outputs": [],
      "source": [
        "import pandas as pd\n",
        "from torch.utils.data import Dataset, DataLoader\n",
        "\n",
        "# Define a custom dataset\n",
        "class CSVDataset(Dataset):\n",
        "    def __init__(self, csv_file, mapping):\n",
        "        # Load the data\n",
        "        self.data = pd.read_csv(csv_file)\n",
        "        # Store the mapping\n",
        "        self.mapping = mapping\n",
        "\n",
        "    def __getitem__(self, index):\n",
        "        # Get the data for one example\n",
        "        example_data = self.data.iloc[index]\n",
        "        # Separate the features from the target\n",
        "        features = torch.tensor(example_data[2:].values, dtype=torch.float32).reshape(1, 28, 28)\n",
        "        target = torch.tensor(self.mapping[example_data.iloc[1]], dtype=torch.long)\n",
        "        return features, target\n",
        "\n",
        "    def __len__(self):\n",
        "        return len(self.data)\n",
        "\n",
        "    def classes(self, index):\n",
        "        return self.mapping[self.data.iloc[index].iloc[1]]\n",
        "\n",
        "# Create instances of the dataset\n",
        "train_data = CSVDataset('final_dataset/train_dataset.csv', mapping)\n",
        "test_data = CSVDataset('final_dataset/test_dataset.csv', mapping)"
      ]
    },
    {
      "cell_type": "code",
      "execution_count": 6,
      "metadata": {
        "colab": {
          "base_uri": "https://localhost:8080/"
        },
        "id": "IxrupqoIwfm1",
        "outputId": "72390fe6-9224-4e5e-be45-5e80bf9e7234"
      },
      "outputs": [
        {
          "data": {
            "text/plain": [
              "(9, torch.Size([1, 28, 28]))"
            ]
          },
          "execution_count": 6,
          "metadata": {},
          "output_type": "execute_result"
        }
      ],
      "source": [
        "image, label = train_data[1134]\n",
        "label.item(), image.shape"
      ]
    },
    {
      "cell_type": "code",
      "execution_count": 7,
      "metadata": {
        "id": "QcQCl7Uwwfm2"
      },
      "outputs": [],
      "source": [
        "classes_list = set()\n",
        "for i in range(len(test_data)):\n",
        "    _, target = test_data[i]\n",
        "    classes_list.add(target.item())"
      ]
    },
    {
      "cell_type": "code",
      "execution_count": 8,
      "metadata": {
        "colab": {
          "base_uri": "https://localhost:8080/"
        },
        "id": "ketBu4FBSZla",
        "outputId": "e94f0f97-74b8-4499-d871-56db6526b076"
      },
      "outputs": [
        {
          "data": {
            "text/plain": [
              "{0,\n",
              " 1,\n",
              " 2,\n",
              " 3,\n",
              " 4,\n",
              " 5,\n",
              " 6,\n",
              " 7,\n",
              " 8,\n",
              " 9,\n",
              " 10,\n",
              " 11,\n",
              " 12,\n",
              " 13,\n",
              " 14,\n",
              " 15,\n",
              " 16,\n",
              " 17,\n",
              " 18,\n",
              " 19,\n",
              " 20,\n",
              " 21,\n",
              " 22,\n",
              " 23,\n",
              " 24,\n",
              " 25,\n",
              " 26,\n",
              " 27,\n",
              " 28,\n",
              " 29,\n",
              " 30,\n",
              " 31}"
            ]
          },
          "execution_count": 8,
          "metadata": {},
          "output_type": "execute_result"
        }
      ],
      "source": [
        "classes_list"
      ]
    },
    {
      "cell_type": "code",
      "execution_count": 9,
      "metadata": {
        "colab": {
          "base_uri": "https://localhost:8080/",
          "height": 469
        },
        "id": "VSaS2RooFh3O",
        "outputId": "27c88728-eaba-4d01-c3da-904c1d81d5a6"
      },
      "outputs": [
        {
          "data": {
            "text/plain": [
              "<matplotlib.image.AxesImage at 0x16e7b9995e0>"
            ]
          },
          "execution_count": 9,
          "metadata": {},
          "output_type": "execute_result"
        },
        {
          "data": {
            "image/png": "[encoded data removed]",
            "text/plain": [
              "<Figure size 640x480 with 1 Axes>"
            ]
          },
          "metadata": {},
          "output_type": "display_data"
        }
      ],
      "source": [
        "number = random.randint(0,len(train_data))\n",
        "image, label = train_data[number]\n",
        "classes_list\n",
        "plt.title(label)\n",
        "plt.imshow(image.squeeze(), cmap=\"gray\")"
      ]
    },
    {
      "cell_type": "code",
      "execution_count": 21,
      "metadata": {
        "colab": {
          "base_uri": "https://localhost:8080/"
        },
        "id": "3hQkGgYOwfm2",
        "outputId": "a2d9a627-7ac1-42ff-8f7c-72a87d524198"
      },
      "outputs": [
        {
          "name": "stdout",
          "output_type": "stream",
          "text": [
            "For training data there is 46113 iterations with the batch size of 8.\n",
            "For testing data there is 7801 iterations with the batch size of 8.\n"
          ]
        }
      ],
      "source": [
        "BATCH_SIZE = 8\n",
        "\n",
        "\n",
        "train_dataloader = DataLoader(train_data, #Dataset to iterate on for the according batch size.\n",
        "                              batch_size = BATCH_SIZE, #Size of every single iteration.\n",
        "                              shuffle = True, #To make the loaded data selected randomly.\n",
        "                              )\n",
        "test_dataloader = DataLoader(test_data,\n",
        "                             batch_size = BATCH_SIZE,\n",
        "                             shuffle = True)\n",
        "\n",
        "print(f\"For training data there is {len(train_dataloader)} iterations with the batch size of {BATCH_SIZE}.\")\n",
        "print(f\"For testing data there is {len(test_dataloader)} iterations with the batch size of {BATCH_SIZE}.\")"
      ]
    },
    {
      "cell_type": "code",
      "execution_count": 22,
      "metadata": {
        "colab": {
          "base_uri": "https://localhost:8080/"
        },
        "id": "3eKzdjR0wfm3",
        "outputId": "fee1c171-3788-49e3-f221-5af87e0a15c4"
      },
      "outputs": [
        {
          "data": {
            "text/plain": [
              "LetterRecognizerModel2(\n",
              "  (conv_layers): Sequential(\n",
              "    (0): Conv2d(1, 32, kernel_size=(3, 3), stride=(1, 1), padding=(1, 1))\n",
              "    (1): ReLU()\n",
              "    (2): Conv2d(32, 32, kernel_size=(3, 3), stride=(1, 1), padding=(1, 1))\n",
              "    (3): ReLU()\n",
              "    (4): BatchNorm2d(32, eps=1e-05, momentum=0.1, affine=True, track_running_stats=True)\n",
              "    (5): MaxPool2d(kernel_size=2, stride=2, padding=0, dilation=1, ceil_mode=False)\n",
              "    (6): Dropout(p=0.55, inplace=False)\n",
              "    (7): Conv2d(32, 64, kernel_size=(3, 3), stride=(1, 1), padding=(1, 1))\n",
              "    (8): ReLU()\n",
              "    (9): Conv2d(64, 64, kernel_size=(3, 3), stride=(1, 1), padding=(1, 1))\n",
              "    (10): ReLU()\n",
              "    (11): BatchNorm2d(64, eps=1e-05, momentum=0.1, affine=True, track_running_stats=True)\n",
              "    (12): MaxPool2d(kernel_size=2, stride=2, padding=0, dilation=1, ceil_mode=False)\n",
              "    (13): Dropout(p=0.55, inplace=False)\n",
              "    (14): Conv2d(64, 128, kernel_size=(3, 3), stride=(1, 1), padding=(1, 1))\n",
              "    (15): ReLU()\n",
              "    (16): Conv2d(128, 128, kernel_size=(3, 3), stride=(1, 1), padding=(1, 1))\n",
              "    (17): ReLU()\n",
              "    (18): BatchNorm2d(128, eps=1e-05, momentum=0.1, affine=True, track_running_stats=True)\n",
              "    (19): MaxPool2d(kernel_size=2, stride=2, padding=0, dilation=1, ceil_mode=False)\n",
              "    (20): Dropout(p=0.55, inplace=False)\n",
              "  )\n",
              "  (fc_layers): Sequential(\n",
              "    (0): Linear(in_features=1152, out_features=512, bias=True)\n",
              "    (1): Dropout(p=0.25, inplace=False)\n",
              "    (2): Linear(in_features=512, out_features=256, bias=True)\n",
              "    (3): Dropout(p=0.55, inplace=False)\n",
              "    (4): Linear(in_features=256, out_features=32, bias=True)\n",
              "  )\n",
              ")"
            ]
          },
          "execution_count": 22,
          "metadata": {},
          "output_type": "execute_result"
        }
      ],
      "source": [
        "import torch\n",
        "from torch import nn\n",
        "import torch.nn.functional as F\n",
        "\n",
        "class LetterRecognizerModel2(nn.Module):\n",
        "    def __init__(self, input_size, output_size):\n",
        "        super(LetterRecognizerModel2, self).__init__()\n",
        "        \n",
        "        self.conv_layers = nn.Sequential(\n",
        "            nn.Conv2d(input_size, 32, kernel_size=3, padding=1),\n",
        "            nn.ReLU(),\n",
        "            nn.Conv2d(32, 32, kernel_size=3, padding=1),\n",
        "            nn.ReLU(),\n",
        "            nn.BatchNorm2d(32),\n",
        "            nn.MaxPool2d(2, 2),\n",
        "            nn.Dropout(0.55),\n",
        "            \n",
        "            nn.Conv2d(32, 64, kernel_size=3, padding=1),\n",
        "            nn.ReLU(),\n",
        "            nn.Conv2d(64, 64, kernel_size=3, padding=1),\n",
        "            nn.ReLU(),\n",
        "            nn.BatchNorm2d(64),\n",
        "            nn.MaxPool2d(2, 2),\n",
        "            nn.Dropout(0.55),\n",
        "            \n",
        "            nn.Conv2d(64, 128, kernel_size=3, padding=1),\n",
        "            nn.ReLU(),\n",
        "            nn.Conv2d(128, 128, kernel_size=3, padding=1),\n",
        "            nn.ReLU(),\n",
        "            nn.BatchNorm2d(128),\n",
        "            nn.MaxPool2d(2, 2),\n",
        "            nn.Dropout(0.55)\n",
        "        )\n",
        "        \n",
        "        self.fc_layers = nn.Sequential(\n",
        "            nn.Linear(128*3*3, 512),\n",
        "            #nn.BatchNorm4d(512),\n",
        "            nn.Dropout(0.25),\n",
        "            \n",
        "            nn.Linear(512, 256),\n",
        "            #nn.BatchNorm4d(256),\n",
        "            nn.Dropout(0.55),\n",
        "            \n",
        "            nn.Linear(256, output_size)\n",
        "        )\n",
        "        \n",
        "    def forward(self, x):\n",
        "        x = self.conv_layers(x)\n",
        "        x = x.view(x.size(0), -1)  # Flatten the output\n",
        "        x = self.fc_layers(x)\n",
        "        return x\n",
        "\n",
        "torch.manual_seed(42)\n",
        "\n",
        "model_2 = LetterRecognizerModel2(input_size=1, output_size=len(classes_list)).to(device)\n",
        "\n",
        "model_2\n"
      ]
    },
    {
      "cell_type": "code",
      "execution_count": 23,
      "metadata": {
        "id": "PgkNTZjawfm3"
      },
      "outputs": [],
      "source": [
        "loss_fn = nn.CrossEntropyLoss()\n",
        "optimizer = torch.optim.SGD(params=model_2.parameters(),\n",
        "                             lr=0.001)"
      ]
    },
    {
      "cell_type": "code",
      "execution_count": 24,
      "metadata": {
        "id": "DUapJMyOwfm4"
      },
      "outputs": [],
      "source": [
        "def accuracy_func(y_true, y_pred):\n",
        "  correct = torch.eq(y_true, y_pred).sum().item()\n",
        "  acc = (correct/len(y_pred)) * 100\n",
        "  return acc"
      ]
    },
    {
      "cell_type": "code",
      "execution_count": 25,
      "metadata": {
        "id": "lPQ892Sfwfm4"
      },
      "outputs": [],
      "source": [
        "from timeit import default_timer as timer\n",
        "def print_train_time(start: float, end: float, device: torch.device = None):\n",
        "    \"\"\"Prints difference between start and end time.\n",
        "\n",
        "    Args:\n",
        "        start (float): Start time of computation (preferred in timeit format).\n",
        "        end (float): End time of computation.\n",
        "        device ([type], optional): Device that compute is running on. Defaults to None.\n",
        "\n",
        "    Returns:\n",
        "        float: time between start and end in seconds (higher is longer).\n",
        "    \"\"\"\n",
        "    total_time = end - start\n",
        "    print(f\"Train time on {device}: {total_time:.3f} seconds\")\n",
        "    return total_time\n",
        "# Imported from learnpytorch.io directly..."
      ]
    },
    {
      "cell_type": "code",
      "execution_count": 26,
      "metadata": {
        "id": "OYI5q5JWwfm4"
      },
      "outputs": [],
      "source": [
        "def train_part(model: torch.nn.Module,\n",
        "               data_loader: torch.utils.data.DataLoader,\n",
        "               loss_fn: torch.nn.Module,\n",
        "               optimizer: torch.optim.Optimizer,\n",
        "               accuracy_func,\n",
        "               device: torch.device = device):\n",
        "  train_loss, train_acc = 0 , 0\n",
        "  model.to(device)\n",
        "\n",
        "  for batch, (X,y) in enumerate(data_loader):\n",
        "    X, y = X.to(device) , y.to(device)\n",
        "\n",
        "    y_pred = model(X)\n",
        "\n",
        "    loss = loss_fn(y_pred, y)\n",
        "    train_loss += loss\n",
        "    train_acc += accuracy_func(y_true=y,\n",
        "                               y_pred=y_pred.argmax(dim=1))\n",
        "\n",
        "    optimizer.zero_grad()\n",
        "    loss.backward()\n",
        "    optimizer.step()\n",
        "\n",
        "  train_loss /= len(data_loader)\n",
        "  train_acc /= len(data_loader)\n",
        "  print(f\"Train loss is:{train_loss:.5f}, Train accuracy is:{train_acc:.2f}%\")\n",
        "  return train_loss, train_acc\n",
        "\n",
        "def test_part(model: torch.nn.Module,\n",
        "               data_loader: torch.utils.data.DataLoader,\n",
        "               loss_fn: torch.nn.Module,\n",
        "               optimizer: torch.optim.Optimizer,\n",
        "               accuracy_func,\n",
        "               device: torch.device = device):\n",
        "  test_loss, test_acc = 0, 0\n",
        "  model.to(device)\n",
        "  model.eval()\n",
        "\n",
        "  with torch.inference_mode():\n",
        "    for X, y in data_loader:\n",
        "\n",
        "      X, y = X.to(device), y.to(device)\n",
        "\n",
        "      test_pred = model(X)\n",
        "      test_loss += loss_fn(test_pred, y)\n",
        "      test_acc += accuracy_func(y_true=y,\n",
        "                                y_pred = test_pred.argmax(dim=1))\n",
        "\n",
        "    test_loss /= len(data_loader)\n",
        "    test_acc /= len(data_loader)\n",
        "\n",
        "    print(f\"Test loss is:{test_loss:.6f}, Test accuracy is:{test_acc:.6f}%\")\n",
        "  return test_loss, test_acc"
      ]
    },
    {
      "cell_type": "code",
      "execution_count": 27,
      "metadata": {
        "colab": {
          "base_uri": "https://localhost:8080/",
          "height": 1000,
          "referenced_widgets": [
            "38d0df3918744504a42822bcc1c4381b",
            "1e0640af674c4af19e217607c8e0b3ab",
            "4c341dda160f46ae9d24163acd4f14a7",
            "ead5ac233b14486b90ea74e56a5accea",
            "bf9bcc8e227e4c719bb0da8e221f43cb",
            "fc805bb0950f45caaeb28fefe5a53419",
            "7019611a5c37412d88412d16e3799481",
            "7bb3fd63c1c146ad95ca86b1be355fed",
            "018675e74a1e405c8f6f87c6e31298cf",
            "509a3b76f4bd4dbd9682e88b82539eb3",
            "b27c3cab16f64a9483a7175e217e6800"
          ]
        },
        "id": "mHl64XdYwfm5",
        "outputId": "ac508d9d-b577-48ae-d4d3-52ad4ab46c75"
      },
      "outputs": [
        {
          "data": {
            "application/vnd.jupyter.widget-view+json": {
              "model_id": "048dc384a5154f23ae441f55c2bee6a8",
              "version_major": 2,
              "version_minor": 0
            },
            "text/plain": [
              "  0%|          | 0/50 [00:00<?, ?it/s]"
            ]
          },
          "metadata": {},
          "output_type": "display_data"
        },
        {
          "name": "stdout",
          "output_type": "stream",
          "text": [
            "Train loss is:0.75369, Train accuracy is:75.75%\n",
            "Test loss is:0.319650, Test accuracy is:88.089668%\n",
            "Epoch: 0\n",
            "---------\n",
            "Train loss is:0.24360, Train accuracy is:90.96%\n",
            "Test loss is:0.261130, Test accuracy is:89.869888%\n",
            "Epoch: 1\n",
            "---------\n",
            "Train loss is:0.21729, Train accuracy is:91.71%\n",
            "Test loss is:0.252497, Test accuracy is:89.993270%\n",
            "Epoch: 2\n",
            "---------\n",
            "Train loss is:0.20490, Train accuracy is:92.06%\n",
            "Test loss is:0.249843, Test accuracy is:90.012498%\n",
            "Epoch: 3\n",
            "---------\n",
            "Train loss is:0.19661, Train accuracy is:92.27%\n",
            "Test loss is:0.238331, Test accuracy is:90.449942%\n",
            "Epoch: 4\n",
            "---------\n",
            "Train loss is:0.19009, Train accuracy is:92.50%\n",
            "Test loss is:0.238567, Test accuracy is:90.360210%\n",
            "Epoch: 5\n",
            "---------\n",
            "Train loss is:0.18474, Train accuracy is:92.65%\n",
            "Test loss is:0.234450, Test accuracy is:90.545122%\n",
            "Epoch: 6\n",
            "---------\n",
            "Train loss is:0.17872, Train accuracy is:93.00%\n",
            "Test loss is:0.240028, Test accuracy is:90.563710%\n",
            "Epoch: 7\n",
            "---------\n",
            "Train loss is:0.15990, Train accuracy is:93.95%\n",
            "Test loss is:0.200277, Test accuracy is:92.684271%\n",
            "Epoch: 8\n",
            "---------\n",
            "Train loss is:0.13421, Train accuracy is:95.05%\n",
            "Test loss is:0.177965, Test accuracy is:93.754006%\n",
            "Epoch: 9\n",
            "---------\n",
            "Train loss is:0.12061, Train accuracy is:95.55%\n",
            "Test loss is:0.162520, Test accuracy is:94.454237%\n",
            "Epoch: 10\n",
            "---------\n",
            "Train loss is:0.11254, Train accuracy is:95.75%\n",
            "Test loss is:0.159952, Test accuracy is:94.673760%\n",
            "Epoch: 11\n",
            "---------\n",
            "Train loss is:0.10583, Train accuracy is:95.96%\n",
            "Test loss is:0.159941, Test accuracy is:94.555826%\n",
            "Epoch: 12\n",
            "---------\n",
            "Train loss is:0.09941, Train accuracy is:96.16%\n",
            "Test loss is:0.157586, Test accuracy is:94.600051%\n",
            "Epoch: 13\n",
            "---------\n",
            "Train loss is:0.09417, Train accuracy is:96.30%\n",
            "Test loss is:0.156185, Test accuracy is:94.814767%\n",
            "Epoch: 14\n",
            "---------\n",
            "Train loss is:0.08895, Train accuracy is:96.48%\n",
            "Test loss is:0.160018, Test accuracy is:94.676964%\n",
            "Epoch: 15\n",
            "---------\n",
            "Train loss is:0.08441, Train accuracy is:96.62%\n",
            "Test loss is:0.160829, Test accuracy is:94.798744%\n",
            "Epoch: 16\n",
            "---------\n",
            "Train loss is:0.08062, Train accuracy is:96.72%\n",
            "Test loss is:0.161936, Test accuracy is:94.965389%\n",
            "Epoch: 17\n",
            "---------\n",
            "Train loss is:0.07693, Train accuracy is:96.83%\n",
            "Test loss is:0.165271, Test accuracy is:94.911550%\n",
            "Epoch: 18\n",
            "---------\n",
            "Train loss is:0.07452, Train accuracy is:96.89%\n",
            "Test loss is:0.169880, Test accuracy is:94.856429%\n",
            "Epoch: 19\n",
            "---------\n",
            "Train loss is:0.07142, Train accuracy is:97.01%\n",
            "Test loss is:0.172380, Test accuracy is:94.901295%\n",
            "Epoch: 20\n",
            "---------\n",
            "Train loss is:0.06879, Train accuracy is:97.07%\n",
            "Test loss is:0.172644, Test accuracy is:95.133637%\n",
            "Epoch: 21\n",
            "---------\n",
            "Train loss is:0.06631, Train accuracy is:97.18%\n",
            "Test loss is:0.176154, Test accuracy is:94.991027%\n",
            "Epoch: 22\n",
            "---------\n",
            "Train loss is:0.06423, Train accuracy is:97.25%\n",
            "Test loss is:0.181059, Test accuracy is:95.004487%\n",
            "Epoch: 23\n",
            "---------\n",
            "Train loss is:0.06185, Train accuracy is:97.36%\n",
            "Test loss is:0.188138, Test accuracy is:94.842007%\n",
            "Epoch: 24\n",
            "---------\n",
            "Train loss is:0.06045, Train accuracy is:97.43%\n",
            "Test loss is:0.193594, Test accuracy is:94.923728%\n",
            "Epoch: 25\n",
            "---------\n",
            "Train loss is:0.05929, Train accuracy is:97.45%\n",
            "Test loss is:0.191042, Test accuracy is:95.027881%\n",
            "Epoch: 26\n",
            "---------\n",
            "Train loss is:0.05751, Train accuracy is:97.50%\n",
            "Test loss is:0.192631, Test accuracy is:94.989424%\n",
            "Epoch: 27\n",
            "---------\n",
            "Train loss is:0.05598, Train accuracy is:97.57%\n",
            "Test loss is:0.199403, Test accuracy is:94.958980%\n",
            "Epoch: 28\n",
            "---------\n",
            "Train loss is:0.05447, Train accuracy is:97.65%\n",
            "Test loss is:0.202153, Test accuracy is:94.987822%\n",
            "Epoch: 29\n",
            "---------\n",
            "Train loss is:0.05298, Train accuracy is:97.68%\n",
            "Test loss is:0.205456, Test accuracy is:95.018267%\n",
            "Epoch: 30\n",
            "---------\n",
            "Train loss is:0.05222, Train accuracy is:97.71%\n",
            "Test loss is:0.209751, Test accuracy is:94.793937%\n",
            "Epoch: 31\n",
            "---------\n",
            "Train loss is:0.05090, Train accuracy is:97.78%\n",
            "Test loss is:0.211769, Test accuracy is:94.818613%\n",
            "Epoch: 32\n",
            "---------\n",
            "Train loss is:0.04947, Train accuracy is:97.83%\n",
            "Test loss is:0.216067, Test accuracy is:94.838803%\n",
            "Epoch: 33\n",
            "---------\n",
            "Train loss is:0.04901, Train accuracy is:97.86%\n",
            "Test loss is:0.217118, Test accuracy is:95.023074%\n",
            "Epoch: 34\n",
            "---------\n",
            "Train loss is:0.04791, Train accuracy is:97.92%\n",
            "Test loss is:0.228307, Test accuracy is:95.003846%\n",
            "Epoch: 35\n",
            "---------\n",
            "Train loss is:0.04653, Train accuracy is:97.97%\n",
            "Test loss is:0.259885, Test accuracy is:93.859762%\n",
            "Epoch: 36\n",
            "---------\n",
            "Train loss is:0.04563, Train accuracy is:98.00%\n",
            "Test loss is:0.220723, Test accuracy is:94.922125%\n",
            "Epoch: 37\n",
            "---------\n",
            "Train loss is:0.04574, Train accuracy is:98.03%\n",
            "Test loss is:0.241864, Test accuracy is:94.790732%\n",
            "Epoch: 38\n",
            "---------\n",
            "Train loss is:0.04306, Train accuracy is:98.14%\n",
            "Test loss is:0.241313, Test accuracy is:94.898090%\n",
            "Epoch: 39\n",
            "---------\n",
            "Train loss is:0.04342, Train accuracy is:98.12%\n",
            "Test loss is:0.244688, Test accuracy is:94.941995%\n",
            "Epoch: 40\n",
            "---------\n",
            "Train loss is:0.04199, Train accuracy is:98.19%\n",
            "Test loss is:0.241034, Test accuracy is:95.003846%\n",
            "Epoch: 41\n",
            "---------\n",
            "Train loss is:0.04073, Train accuracy is:98.24%\n",
            "Test loss is:0.246948, Test accuracy is:94.915716%\n",
            "Epoch: 42\n",
            "---------\n",
            "Train loss is:0.03968, Train accuracy is:98.29%\n",
            "Test loss is:0.256273, Test accuracy is:94.797141%\n",
            "Epoch: 43\n",
            "---------\n",
            "Train loss is:0.03966, Train accuracy is:98.31%\n",
            "Test loss is:0.262274, Test accuracy is:94.739456%\n",
            "Epoch: 44\n",
            "---------\n",
            "Train loss is:0.03930, Train accuracy is:98.34%\n",
            "Test loss is:0.263144, Test accuracy is:94.885271%\n",
            "Epoch: 45\n",
            "---------\n",
            "Train loss is:0.03703, Train accuracy is:98.43%\n",
            "Test loss is:0.264015, Test accuracy is:94.848417%\n",
            "Epoch: 46\n",
            "---------\n",
            "Train loss is:0.03600, Train accuracy is:98.47%\n",
            "Test loss is:0.268722, Test accuracy is:94.643956%\n",
            "Epoch: 47\n",
            "---------\n",
            "Train loss is:0.03594, Train accuracy is:98.49%\n",
            "Test loss is:0.267789, Test accuracy is:94.922125%\n",
            "Epoch: 48\n",
            "---------\n",
            "Train loss is:0.03430, Train accuracy is:98.57%\n",
            "Test loss is:0.288446, Test accuracy is:94.478272%\n",
            "Epoch: 49\n",
            "---------\n",
            "Train time on cuda: 23601.565 seconds\n"
          ]
        }
      ],
      "source": [
        "torch.manual_seed(42)\n",
        "\n",
        "from timeit import default_timer as timer\n",
        "train_time_start_model_2 = timer()\n",
        "\n",
        "train_losses = []\n",
        "train_accuracies = []\n",
        "test_losses = []\n",
        "test_accuracies = []\n",
        "\n",
        "# Train and test model\n",
        "epochs = 50\n",
        "for epoch in tqdm(range(epochs)):\n",
        "\n",
        "    train_loss, train_acc = train_part(data_loader=train_dataloader,\n",
        "        model=model_2,\n",
        "        loss_fn=loss_fn,\n",
        "        optimizer=optimizer,\n",
        "        accuracy_func=accuracy_func,\n",
        "        device=device)\n",
        "    test_loss, test_acc = test_part(data_loader=test_dataloader,\n",
        "        model=model_2,\n",
        "        loss_fn=loss_fn,\n",
        "        optimizer = optimizer,\n",
        "        accuracy_func=accuracy_func,\n",
        "        device=device)\n",
        "    train_losses.append(train_loss.detach().cpu().numpy())\n",
        "    train_accuracies.append(train_acc)\n",
        "    test_losses.append(test_loss.detach().cpu().numpy())\n",
        "    test_accuracies.append(test_acc)\n",
        "\n",
        "\n",
        "    print(f\"Epoch: {epoch}\\n---------\")\n",
        "\n",
        "train_time_end_model_2 = timer()\n",
        "total_train_time_model_2 = print_train_time(start=train_time_start_model_2,\n",
        "                                           end=train_time_end_model_2,\n",
        "                                           device=device)"
      ]
    },
    {
      "cell_type": "code",
      "execution_count": 28,
      "metadata": {},
      "outputs": [
        {
          "data": {
            "image/png": "[encoded data removed]",
            "text/plain": [
              "<Figure size 1200x500 with 2 Axes>"
            ]
          },
          "metadata": {},
          "output_type": "display_data"
        }
      ],
      "source": [
        "plt.figure(figsize=(12, 5))\n",
        "plt.subplot(1, 2, 1)\n",
        "plt.plot(range(1, epochs + 1), train_losses, label='Train Loss')\n",
        "plt.plot(range(1, epochs + 1), test_losses, label='Test Loss')\n",
        "plt.title('Loss Over Epochs')\n",
        "plt.xlabel('Epochs')\n",
        "plt.ylabel('Loss')\n",
        "plt.legend()\n",
        "\n",
        "plt.subplot(1, 2, 2)\n",
        "plt.plot(range(1, epochs + 1), train_accuracies, label='Train Accuracy')\n",
        "plt.plot(range(1, epochs + 1), test_accuracies, label='Test Accuracy')\n",
        "plt.title('Accuracy Over Epochs')\n",
        "plt.xlabel('Epochs')\n",
        "plt.ylabel('Accuracy')\n",
        "plt.legend()\n",
        "\n",
        "plt.tight_layout()\n",
        "plt.show()"
      ]
    }
  ],
  "metadata": {
    "accelerator": "GPU",
    "colab": {
      "gpuType": "T4",
      "provenance": []
    },
    "kernelspec": {
      "display_name": "Python 3",
      "name": "python3"
    },
    "language_info": {
      "codemirror_mode": {
        "name": "ipython",
        "version": 3
      },
      "file_extension": ".py",
      "mimetype": "text/x-python",
      "name": "python",
      "nbconvert_exporter": "python",
      "pygments_lexer": "ipython3",
      "version": "3.12.0"
    },
    "widgets": {
      "application/vnd.jupyter.widget-state+json": {
        "018675e74a1e405c8f6f87c6e31298cf": {
          "model_module": "@jupyter-widgets/controls",
          "model_module_version": "1.5.0",
          "model_name": "ProgressStyleModel",
          "state": {
            "_model_module": "@jupyter-widgets/controls",
            "_model_module_version": "1.5.0",
            "_model_name": "ProgressStyleModel",
            "_view_count": null,
            "_view_module": "@jupyter-widgets/base",
            "_view_module_version": "1.2.0",
            "_view_name": "StyleView",
            "bar_color": null,
            "description_width": ""
          }
        },
        "1e0640af674c4af19e217607c8e0b3ab": {
          "model_module": "@jupyter-widgets/controls",
          "model_module_version": "1.5.0",
          "model_name": "HTMLModel",
          "state": {
            "_dom_classes": [],
            "_model_module": "@jupyter-widgets/controls",
            "_model_module_version": "1.5.0",
            "_model_name": "HTMLModel",
            "_view_count": null,
            "_view_module": "@jupyter-widgets/controls",
            "_view_module_version": "1.5.0",
            "_view_name": "HTMLView",
            "description": "",
            "description_tooltip": null,
            "layout": "IPY_MODEL_fc805bb0950f45caaeb28fefe5a53419",
            "placeholder": "​",
            "style": "IPY_MODEL_7019611a5c37412d88412d16e3799481",
            "value": " 28%"
          }
        },
        "38d0df3918744504a42822bcc1c4381b": {
          "model_module": "@jupyter-widgets/controls",
          "model_module_version": "1.5.0",
          "model_name": "HBoxModel",
          "state": {
            "_dom_classes": [],
            "_model_module": "@jupyter-widgets/controls",
            "_model_module_version": "1.5.0",
            "_model_name": "HBoxModel",
            "_view_count": null,
            "_view_module": "@jupyter-widgets/controls",
            "_view_module_version": "1.5.0",
            "_view_name": "HBoxView",
            "box_style": "",
            "children": [
              "IPY_MODEL_1e0640af674c4af19e217607c8e0b3ab",
              "IPY_MODEL_4c341dda160f46ae9d24163acd4f14a7",
              "IPY_MODEL_ead5ac233b14486b90ea74e56a5accea"
            ],
            "layout": "IPY_MODEL_bf9bcc8e227e4c719bb0da8e221f43cb"
          }
        },
        "4c341dda160f46ae9d24163acd4f14a7": {
          "model_module": "@jupyter-widgets/controls",
          "model_module_version": "1.5.0",
          "model_name": "FloatProgressModel",
          "state": {
            "_dom_classes": [],
            "_model_module": "@jupyter-widgets/controls",
            "_model_module_version": "1.5.0",
            "_model_name": "FloatProgressModel",
            "_view_count": null,
            "_view_module": "@jupyter-widgets/controls",
            "_view_module_version": "1.5.0",
            "_view_name": "ProgressView",
            "bar_style": "",
            "description": "",
            "description_tooltip": null,
            "layout": "IPY_MODEL_7bb3fd63c1c146ad95ca86b1be355fed",
            "max": 50,
            "min": 0,
            "orientation": "horizontal",
            "style": "IPY_MODEL_018675e74a1e405c8f6f87c6e31298cf",
            "value": 14
          }
        },
        "509a3b76f4bd4dbd9682e88b82539eb3": {
          "model_module": "@jupyter-widgets/base",
          "model_module_version": "1.2.0",
          "model_name": "LayoutModel",
          "state": {
            "_model_module": "@jupyter-widgets/base",
            "_model_module_version": "1.2.0",
            "_model_name": "LayoutModel",
            "_view_count": null,
            "_view_module": "@jupyter-widgets/base",
            "_view_module_version": "1.2.0",
            "_view_name": "LayoutView",
            "align_content": null,
            "align_items": null,
            "align_self": null,
            "border": null,
            "bottom": null,
            "display": null,
            "flex": null,
            "flex_flow": null,
            "grid_area": null,
            "grid_auto_columns": null,
            "grid_auto_flow": null,
            "grid_auto_rows": null,
            "grid_column": null,
            "grid_gap": null,
            "grid_row": null,
            "grid_template_areas": null,
            "grid_template_columns": null,
            "grid_template_rows": null,
            "height": null,
            "justify_content": null,
            "justify_items": null,
            "left": null,
            "margin": null,
            "max_height": null,
            "max_width": null,
            "min_height": null,
            "min_width": null,
            "object_fit": null,
            "object_position": null,
            "order": null,
            "overflow": null,
            "overflow_x": null,
            "overflow_y": null,
            "padding": null,
            "right": null,
            "top": null,
            "visibility": null,
            "width": null
          }
        },
        "7019611a5c37412d88412d16e3799481": {
          "model_module": "@jupyter-widgets/controls",
          "model_module_version": "1.5.0",
          "model_name": "DescriptionStyleModel",
          "state": {
            "_model_module": "@jupyter-widgets/controls",
            "_model_module_version": "1.5.0",
            "_model_name": "DescriptionStyleModel",
            "_view_count": null,
            "_view_module": "@jupyter-widgets/base",
            "_view_module_version": "1.2.0",
            "_view_name": "StyleView",
            "description_width": ""
          }
        },
        "7bb3fd63c1c146ad95ca86b1be355fed": {
          "model_module": "@jupyter-widgets/base",
          "model_module_version": "1.2.0",
          "model_name": "LayoutModel",
          "state": {
            "_model_module": "@jupyter-widgets/base",
            "_model_module_version": "1.2.0",
            "_model_name": "LayoutModel",
            "_view_count": null,
            "_view_module": "@jupyter-widgets/base",
            "_view_module_version": "1.2.0",
            "_view_name": "LayoutView",
            "align_content": null,
            "align_items": null,
            "align_self": null,
            "border": null,
            "bottom": null,
            "display": null,
            "flex": null,
            "flex_flow": null,
            "grid_area": null,
            "grid_auto_columns": null,
            "grid_auto_flow": null,
            "grid_auto_rows": null,
            "grid_column": null,
            "grid_gap": null,
            "grid_row": null,
            "grid_template_areas": null,
            "grid_template_columns": null,
            "grid_template_rows": null,
            "height": null,
            "justify_content": null,
            "justify_items": null,
            "left": null,
            "margin": null,
            "max_height": null,
            "max_width": null,
            "min_height": null,
            "min_width": null,
            "object_fit": null,
            "object_position": null,
            "order": null,
            "overflow": null,
            "overflow_x": null,
            "overflow_y": null,
            "padding": null,
            "right": null,
            "top": null,
            "visibility": null,
            "width": null
          }
        },
        "b27c3cab16f64a9483a7175e217e6800": {
          "model_module": "@jupyter-widgets/controls",
          "model_module_version": "1.5.0",
          "model_name": "DescriptionStyleModel",
          "state": {
            "_model_module": "@jupyter-widgets/controls",
            "_model_module_version": "1.5.0",
            "_model_name": "DescriptionStyleModel",
            "_view_count": null,
            "_view_module": "@jupyter-widgets/base",
            "_view_module_version": "1.2.0",
            "_view_name": "StyleView",
            "description_width": ""
          }
        },
        "bf9bcc8e227e4c719bb0da8e221f43cb": {
          "model_module": "@jupyter-widgets/base",
          "model_module_version": "1.2.0",
          "model_name": "LayoutModel",
          "state": {
            "_model_module": "@jupyter-widgets/base",
            "_model_module_version": "1.2.0",
            "_model_name": "LayoutModel",
            "_view_count": null,
            "_view_module": "@jupyter-widgets/base",
            "_view_module_version": "1.2.0",
            "_view_name": "LayoutView",
            "align_content": null,
            "align_items": null,
            "align_self": null,
            "border": null,
            "bottom": null,
            "display": null,
            "flex": null,
            "flex_flow": null,
            "grid_area": null,
            "grid_auto_columns": null,
            "grid_auto_flow": null,
            "grid_auto_rows": null,
            "grid_column": null,
            "grid_gap": null,
            "grid_row": null,
            "grid_template_areas": null,
            "grid_template_columns": null,
            "grid_template_rows": null,
            "height": null,
            "justify_content": null,
            "justify_items": null,
            "left": null,
            "margin": null,
            "max_height": null,
            "max_width": null,
            "min_height": null,
            "min_width": null,
            "object_fit": null,
            "object_position": null,
            "order": null,
            "overflow": null,
            "overflow_x": null,
            "overflow_y": null,
            "padding": null,
            "right": null,
            "top": null,
            "visibility": null,
            "width": null
          }
        },
        "ead5ac233b14486b90ea74e56a5accea": {
          "model_module": "@jupyter-widgets/controls",
          "model_module_version": "1.5.0",
          "model_name": "HTMLModel",
          "state": {
            "_dom_classes": [],
            "_model_module": "@jupyter-widgets/controls",
            "_model_module_version": "1.5.0",
            "_model_name": "HTMLModel",
            "_view_count": null,
            "_view_module": "@jupyter-widgets/controls",
            "_view_module_version": "1.5.0",
            "_view_name": "HTMLView",
            "description": "",
            "description_tooltip": null,
            "layout": "IPY_MODEL_509a3b76f4bd4dbd9682e88b82539eb3",
            "placeholder": "​",
            "style": "IPY_MODEL_b27c3cab16f64a9483a7175e217e6800",
            "value": " 14/50 [1:12:31&lt;3:03:28, 305.80s/it]"
          }
        },
        "fc805bb0950f45caaeb28fefe5a53419": {
          "model_module": "@jupyter-widgets/base",
          "model_module_version": "1.2.0",
          "model_name": "LayoutModel",
          "state": {
            "_model_module": "@jupyter-widgets/base",
            "_model_module_version": "1.2.0",
            "_model_name": "LayoutModel",
            "_view_count": null,
            "_view_module": "@jupyter-widgets/base",
            "_view_module_version": "1.2.0",
            "_view_name": "LayoutView",
            "align_content": null,
            "align_items": null,
            "align_self": null,
            "border": null,
            "bottom": null,
            "display": null,
            "flex": null,
            "flex_flow": null,
            "grid_area": null,
            "grid_auto_columns": null,
            "grid_auto_flow": null,
            "grid_auto_rows": null,
            "grid_column": null,
            "grid_gap": null,
            "grid_row": null,
            "grid_template_areas": null,
            "grid_template_columns": null,
            "grid_template_rows": null,
            "height": null,
            "justify_content": null,
            "justify_items": null,
            "left": null,
            "margin": null,
            "max_height": null,
            "max_width": null,
            "min_height": null,
            "min_width": null,
            "object_fit": null,
            "object_position": null,
            "order": null,
            "overflow": null,
            "overflow_x": null,
            "overflow_y": null,
            "padding": null,
            "right": null,
            "top": null,
            "visibility": null,
            "width": null
          }
        }
      }
    }
  },
  "nbformat": 4,
  "nbformat_minor": 0
}
