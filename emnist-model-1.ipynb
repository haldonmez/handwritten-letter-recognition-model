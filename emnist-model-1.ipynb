{
 "cells": [
  {
   "cell_type": "code",
   "execution_count": 20,
   "metadata": {},
   "outputs": [],
   "source": [
    "import numpy as np\n",
    "import pandas as pd\n",
    "import matplotlib.pyplot as plt\n",
    "import random\n",
    "import torch\n",
    "from torchvision import datasets\n",
    "from torchvision.transforms import ToTensor\n",
    "from torchvision import datasets, transforms\n",
    "from torchvision.transforms import functional as F\n",
    "from scipy.ndimage import rotate\n",
    "import time\n",
    "from torch import nn\n",
    "from torch.utils.data import DataLoader\n",
    "from torch.utils.data import ConcatDataset\n",
    "from tqdm.auto import tqdm\n",
    "from torchvision.transforms import v2"
   ]
  },
  {
   "cell_type": "code",
   "execution_count": 21,
   "metadata": {},
   "outputs": [
    {
     "data": {
      "text/plain": [
       "'cuda'"
      ]
     },
     "execution_count": 21,
     "metadata": {},
     "output_type": "execute_result"
    }
   ],
   "source": [
    "device = \"cuda\" if torch.cuda.is_available() else \"cpu\"\n",
    "device"
   ]
  },
  {
   "cell_type": "code",
   "execution_count": 22,
   "metadata": {},
   "outputs": [],
   "source": [
    "import pandas as pd\n",
    "from torch.utils.data import Dataset, DataLoader\n",
    "\n",
    "# Define a custom dataset\n",
    "class CSVDataset(Dataset):\n",
    "    def __init__(self, csv_file):\n",
    "        # Load the data\n",
    "        self.data = pd.read_csv(csv_file)\n",
    "\n",
    "    def __getitem__(self, index):\n",
    "        # Get the data for one example\n",
    "        example_data = self.data.iloc[index]\n",
    "        # Separate the features from the target\n",
    "        features = torch.tensor(example_data[2:].values, dtype=torch.float32).reshape(1, 28, 28)\n",
    "        target = torch.tensor(example_data.iloc[1], dtype=torch.long)\n",
    "        return features, target\n",
    "\n",
    "    def __len__(self):\n",
    "        return len(self.data)\n",
    "    \n",
    "    def classes(self, index):\n",
    "        return self.data.iloc[index].iloc[1]\n",
    "\n",
    "\n",
    "# Create instances of the dataset\n",
    "train_data = CSVDataset('final_dataset/train_dataset.csv')\n",
    "test_data = CSVDataset('final_dataset/test_dataset.csv')"
   ]
  },
  {
   "cell_type": "code",
   "execution_count": 23,
   "metadata": {},
   "outputs": [
    {
     "data": {
      "text/plain": [
       "(9, torch.Size([1, 28, 28]))"
      ]
     },
     "execution_count": 23,
     "metadata": {},
     "output_type": "execute_result"
    }
   ],
   "source": [
    "image, label = train_data[1134]\n",
    "label.item(), image.shape"
   ]
  },
  {
   "cell_type": "code",
   "execution_count": 24,
   "metadata": {},
   "outputs": [
    {
     "data": {
      "text/plain": [
       "{0,\n",
       " 1,\n",
       " 2,\n",
       " 3,\n",
       " 4,\n",
       " 5,\n",
       " 6,\n",
       " 7,\n",
       " 8,\n",
       " 9,\n",
       " 10,\n",
       " 11,\n",
       " 12,\n",
       " 13,\n",
       " 14,\n",
       " 15,\n",
       " 16,\n",
       " 17,\n",
       " 18,\n",
       " 19,\n",
       " 20,\n",
       " 21,\n",
       " 22,\n",
       " 23,\n",
       " 24,\n",
       " 25,\n",
       " 26,\n",
       " 27,\n",
       " 28,\n",
       " 29,\n",
       " 30,\n",
       " 31,\n",
       " 32,\n",
       " 33,\n",
       " 34,\n",
       " 35,\n",
       " 36,\n",
       " 37,\n",
       " 38,\n",
       " 39,\n",
       " 40,\n",
       " 41,\n",
       " 42,\n",
       " 43,\n",
       " 44,\n",
       " 45,\n",
       " 46,\n",
       " 47,\n",
       " 48,\n",
       " 49,\n",
       " 50,\n",
       " 51,\n",
       " 52,\n",
       " 53,\n",
       " 54,\n",
       " 55,\n",
       " 56,\n",
       " 57,\n",
       " 58,\n",
       " 59,\n",
       " 60,\n",
       " 61}"
      ]
     },
     "execution_count": 24,
     "metadata": {},
     "output_type": "execute_result"
    }
   ],
   "source": [
    "classes_list = set()\n",
    "for i in range(len(test_data)):\n",
    "    _, target = test_data[i]\n",
    "    classes_list.add(target.item())\n",
    "\n",
    "classes_list"
   ]
  },
  {
   "cell_type": "code",
   "execution_count": 25,
   "metadata": {},
   "outputs": [
    {
     "data": {
      "text/plain": [
       "62"
      ]
     },
     "execution_count": 25,
     "metadata": {},
     "output_type": "execute_result"
    }
   ],
   "source": [
    "len(classes_list)"
   ]
  },
  {
   "cell_type": "code",
   "execution_count": 26,
   "metadata": {},
   "outputs": [
    {
     "name": "stdout",
     "output_type": "stream",
     "text": [
      "For training data there is 23057 iterations with the batch size of 16.\n",
      "For testing data there is 3901 iterations with the batch size of 16.\n"
     ]
    }
   ],
   "source": [
    "BATCH_SIZE = 16\n",
    "\n",
    "train_dataloader = DataLoader(train_data, #Dataset to iterate on for the according batch size.\n",
    "                              batch_size = BATCH_SIZE, #Size of every single iteration.\n",
    "                              shuffle = True, #To make the loaded data selected randomly.\n",
    "                              )\n",
    "test_dataloader = DataLoader(test_data,\n",
    "                             batch_size = BATCH_SIZE,\n",
    "                             shuffle = True)\n",
    "\n",
    "print(f\"For training data there is {len(train_dataloader)} iterations with the batch size of {BATCH_SIZE}.\")\n",
    "print(f\"For testing data there is {len(test_dataloader)} iterations with the batch size of {BATCH_SIZE}.\")"
   ]
  },
  {
   "cell_type": "code",
   "execution_count": 45,
   "metadata": {},
   "outputs": [
    {
     "data": {
      "text/plain": [
       "LetterRecognizerModel1(\n",
       "  (conv1): Sequential(\n",
       "    (0): Conv2d(1, 32, kernel_size=(3, 3), stride=(1, 1), padding=(1, 1))\n",
       "    (1): ReLU()\n",
       "    (2): BatchNorm2d(32, eps=1e-05, momentum=0.1, affine=True, track_running_stats=True)\n",
       "    (3): MaxPool2d(kernel_size=2, stride=2, padding=0, dilation=1, ceil_mode=False)\n",
       "    (4): Conv2d(32, 32, kernel_size=(3, 3), stride=(1, 1), padding=(1, 1))\n",
       "    (5): ReLU()\n",
       "    (6): BatchNorm2d(32, eps=1e-05, momentum=0.1, affine=True, track_running_stats=True)\n",
       "    (7): Dropout(p=0.4, inplace=False)\n",
       "  )\n",
       "  (conv2): Sequential(\n",
       "    (0): Conv2d(32, 64, kernel_size=(3, 3), stride=(1, 1), padding=(1, 1))\n",
       "    (1): ReLU()\n",
       "    (2): BatchNorm2d(64, eps=1e-05, momentum=0.1, affine=True, track_running_stats=True)\n",
       "    (3): MaxPool2d(kernel_size=2, stride=2, padding=0, dilation=1, ceil_mode=False)\n",
       "    (4): Conv2d(64, 64, kernel_size=(3, 3), stride=(1, 1), padding=(1, 1))\n",
       "    (5): ReLU()\n",
       "    (6): BatchNorm2d(64, eps=1e-05, momentum=0.1, affine=True, track_running_stats=True)\n",
       "    (7): Dropout(p=0.4, inplace=False)\n",
       "  )\n",
       "  (fc): Linear(in_features=3136, out_features=62, bias=True)\n",
       ")"
      ]
     },
     "execution_count": 45,
     "metadata": {},
     "output_type": "execute_result"
    }
   ],
   "source": [
    "import torch\n",
    "from torch import nn\n",
    "\n",
    "class LetterRecognizerModel1(nn.Module):\n",
    "    def __init__(self, input_size, output_size):\n",
    "        super(LetterRecognizerModel1, self).__init__()\n",
    "        \n",
    "        self.conv1 = nn.Sequential(\n",
    "            nn.Conv2d(input_size[2], 32, kernel_size=3, padding=1),\n",
    "            nn.ReLU(),\n",
    "            nn.BatchNorm2d(32),\n",
    "            nn.MaxPool2d(2, 2),  # Add this line\n",
    "            nn.Conv2d(32, 32, kernel_size=3, padding=1),\n",
    "            nn.ReLU(),\n",
    "            nn.BatchNorm2d(32),\n",
    "            nn.Dropout(0.4)\n",
    "        )\n",
    "        \n",
    "        self.conv2 = nn.Sequential(\n",
    "            nn.Conv2d(32, 64, kernel_size=3, padding=1),\n",
    "            nn.ReLU(),\n",
    "            nn.BatchNorm2d(64),\n",
    "            nn.MaxPool2d(2, 2),  # Add this line\n",
    "            nn.Conv2d(64, 64, kernel_size=3, padding=1),\n",
    "            nn.ReLU(),\n",
    "            nn.BatchNorm2d(64),\n",
    "            nn.Dropout(0.4)\n",
    "        )\n",
    "        \n",
    "        # Flatten the output of the convolutional layers\n",
    "        self.fc = nn.Linear(64*7*7, output_size)  # Adjust this line\n",
    "        \n",
    "    def forward(self, x):\n",
    "        x = self.conv1(x)\n",
    "        x = self.conv2(x)\n",
    "        x = x.view(x.size(0), -1)  # Flatten the output\n",
    "        x = self.fc(x)\n",
    "        return x\n",
    "\n",
    "torch.manual_seed(42)\n",
    "\n",
    "model_1 = LetterRecognizerModel1(input_size=(28, 28, 1), output_size=len(classes_list)).to(device)\n",
    "\n",
    "model_1\n"
   ]
  },
  {
   "cell_type": "code",
   "execution_count": 46,
   "metadata": {},
   "outputs": [],
   "source": [
    "loss_fn = nn.CrossEntropyLoss()\n",
    "optimizer = torch.optim.SGD(params=model_1.parameters(),\n",
    "                             lr=0.001)"
   ]
  },
  {
   "cell_type": "code",
   "execution_count": 47,
   "metadata": {},
   "outputs": [],
   "source": [
    "def accuracy_func(y_true, y_pred):\n",
    "  correct = torch.eq(y_true, y_pred).sum().item()\n",
    "  acc = (correct/len(y_pred)) * 100\n",
    "  return acc"
   ]
  },
  {
   "cell_type": "code",
   "execution_count": 48,
   "metadata": {},
   "outputs": [],
   "source": [
    "from timeit import default_timer as timer\n",
    "def print_train_time(start: float, end: float, device: torch.device = None):\n",
    "    \"\"\"Prints difference between start and end time.\n",
    "\n",
    "    Args:\n",
    "        start (float): Start time of computation (preferred in timeit format).\n",
    "        end (float): End time of computation.\n",
    "        device ([type], optional): Device that compute is running on. Defaults to None.\n",
    "\n",
    "    Returns:\n",
    "        float: time between start and end in seconds (higher is longer).\n",
    "    \"\"\"\n",
    "    total_time = end - start\n",
    "    print(f\"Train time on {device}: {total_time:.3f} seconds\")\n",
    "    return total_time\n",
    "# Imported from learnpytorch.io directly..."
   ]
  },
  {
   "cell_type": "code",
   "execution_count": 49,
   "metadata": {},
   "outputs": [],
   "source": [
    "def train_part(model: torch.nn.Module,\n",
    "               data_loader: torch.utils.data.DataLoader,\n",
    "               loss_fn: torch.nn.Module,\n",
    "               optimizer: torch.optim.Optimizer,\n",
    "               accuracy_func,\n",
    "               device: torch.device = device):\n",
    "  train_loss, train_acc = 0 , 0\n",
    "  model.to(device)\n",
    "\n",
    "  for batch, (X,y) in enumerate(data_loader):\n",
    "    X, y = X.to(device) , y.to(device)\n",
    "\n",
    "    y_pred = model(X)\n",
    "\n",
    "    loss = loss_fn(y_pred, y)\n",
    "    train_loss += loss\n",
    "    train_acc += accuracy_func(y_true=y,\n",
    "                               y_pred=y_pred.argmax(dim=1))\n",
    "\n",
    "    optimizer.zero_grad()\n",
    "    loss.backward()\n",
    "    optimizer.step()\n",
    "\n",
    "  train_loss /= len(data_loader)\n",
    "  train_acc /= len(data_loader)\n",
    "  print(f\"Train loss is:{train_loss:.5f}, Train accuracy is:{train_acc:.2f}%\")\n",
    "  return train_loss, train_acc\n",
    "\n",
    "def test_part(model: torch.nn.Module,\n",
    "               data_loader: torch.utils.data.DataLoader,\n",
    "               loss_fn: torch.nn.Module,\n",
    "               optimizer: torch.optim.Optimizer,\n",
    "               accuracy_func,\n",
    "               device: torch.device = device):\n",
    "  test_loss, test_acc = 0, 0\n",
    "  model.to(device)\n",
    "  model.eval()\n",
    "\n",
    "  with torch.inference_mode():\n",
    "    for X, y in data_loader:\n",
    "\n",
    "      X, y = X.to(device), y.to(device)\n",
    "\n",
    "      test_pred = model(X)\n",
    "      test_loss += loss_fn(test_pred, y)\n",
    "      test_acc += accuracy_func(y_true=y,\n",
    "                                y_pred = test_pred.argmax(dim=1))\n",
    "\n",
    "    test_loss /= len(data_loader)\n",
    "    test_acc /= len(data_loader)\n",
    "\n",
    "    print(f\"Test loss is:{test_loss:.6f}, Test accuracy is:{test_acc:.6f}%\")\n",
    "  return test_loss, test_acc"
   ]
  },
  {
   "cell_type": "code",
   "execution_count": 50,
   "metadata": {},
   "outputs": [
    {
     "data": {
      "application/vnd.jupyter.widget-view+json": {
       "model_id": "a6f14d2a2c834334931267ae5448cd1f",
       "version_major": 2,
       "version_minor": 0
      },
      "text/plain": [
       "  0%|          | 0/20 [00:00<?, ?it/s]"
      ]
     },
     "metadata": {},
     "output_type": "display_data"
    },
    {
     "name": "stdout",
     "output_type": "stream",
     "text": [
      "Train loss is:0.78782, Train accuracy is:75.31%\n",
      "Test loss is:0.608104, Test accuracy is:78.362920%\n",
      "Epoch: 0\n",
      "---------\n",
      "Train loss is:0.51047, Train accuracy is:81.76%\n",
      "Test loss is:0.541350, Test accuracy is:80.432902%\n",
      "Epoch: 1\n",
      "---------\n",
      "Train loss is:0.47819, Train accuracy is:82.53%\n",
      "Test loss is:0.521146, Test accuracy is:80.871892%\n",
      "Epoch: 2\n",
      "---------\n",
      "Train loss is:0.45945, Train accuracy is:83.02%\n",
      "Test loss is:0.519578, Test accuracy is:80.804281%\n",
      "Epoch: 3\n",
      "---------\n",
      "Train loss is:0.44613, Train accuracy is:83.45%\n",
      "Test loss is:0.500524, Test accuracy is:82.140797%\n",
      "Epoch: 4\n",
      "---------\n",
      "Train loss is:0.43118, Train accuracy is:84.15%\n",
      "Test loss is:0.478449, Test accuracy is:82.550308%\n",
      "Epoch: 5\n",
      "---------\n",
      "Train loss is:0.39910, Train accuracy is:85.24%\n",
      "Test loss is:0.446762, Test accuracy is:83.360997%\n",
      "Epoch: 6\n",
      "---------\n",
      "Train loss is:0.37804, Train accuracy is:85.89%\n",
      "Test loss is:0.531246, Test accuracy is:82.506088%\n",
      "Epoch: 7\n",
      "---------\n",
      "Train loss is:0.36587, Train accuracy is:86.27%\n",
      "Test loss is:0.428579, Test accuracy is:84.422264%\n",
      "Epoch: 8\n",
      "---------\n",
      "Train loss is:0.35547, Train accuracy is:86.58%\n",
      "Test loss is:0.431050, Test accuracy is:83.967252%\n",
      "Epoch: 9\n",
      "---------\n",
      "Train loss is:0.34679, Train accuracy is:86.85%\n",
      "Test loss is:0.420955, Test accuracy is:84.343758%\n",
      "Epoch: 10\n",
      "---------\n",
      "Train loss is:0.33862, Train accuracy is:87.09%\n",
      "Test loss is:0.426214, Test accuracy is:84.455909%\n",
      "Epoch: 11\n",
      "---------\n",
      "Train loss is:0.33034, Train accuracy is:87.44%\n",
      "Test loss is:0.421342, Test accuracy is:84.152781%\n",
      "Epoch: 12\n",
      "---------\n",
      "Train loss is:0.32284, Train accuracy is:87.65%\n",
      "Test loss is:0.420552, Test accuracy is:84.421943%\n",
      "Epoch: 13\n",
      "---------\n",
      "Train loss is:0.31540, Train accuracy is:87.85%\n",
      "Test loss is:0.421904, Test accuracy is:84.414253%\n",
      "Epoch: 14\n",
      "---------\n",
      "Train loss is:0.30891, Train accuracy is:88.12%\n",
      "Test loss is:0.427575, Test accuracy is:84.044155%\n",
      "Epoch: 15\n",
      "---------\n",
      "Train loss is:0.30203, Train accuracy is:88.36%\n",
      "Test loss is:0.429774, Test accuracy is:84.104396%\n",
      "Epoch: 16\n",
      "---------\n",
      "Train loss is:0.29569, Train accuracy is:88.55%\n",
      "Test loss is:0.442328, Test accuracy is:83.710907%\n",
      "Epoch: 17\n",
      "---------\n",
      "Train loss is:0.28920, Train accuracy is:88.73%\n",
      "Test loss is:0.442030, Test accuracy is:84.589849%\n",
      "Epoch: 18\n",
      "---------\n",
      "Train loss is:0.28300, Train accuracy is:89.00%\n",
      "Test loss is:0.478287, Test accuracy is:83.507114%\n",
      "Epoch: 19\n",
      "---------\n",
      "Train time on cuda: 6481.839 seconds\n"
     ]
    }
   ],
   "source": [
    "torch.manual_seed(42)\n",
    "\n",
    "from timeit import default_timer as timer\n",
    "train_time_start_model_1 = timer()\n",
    "\n",
    "train_losses = []\n",
    "train_accuracies = []\n",
    "test_losses = []\n",
    "test_accuracies = []\n",
    "\n",
    "# Train and test model\n",
    "epochs = 20\n",
    "for epoch in tqdm(range(epochs)):\n",
    "\n",
    "    train_loss, train_acc = train_part(data_loader=train_dataloader,\n",
    "        model=model_1,\n",
    "        loss_fn=loss_fn,\n",
    "        optimizer=optimizer,\n",
    "        accuracy_func=accuracy_func,\n",
    "        device=device)\n",
    "    test_loss, test_acc = test_part(data_loader=test_dataloader,\n",
    "        model=model_1,\n",
    "        loss_fn=loss_fn,\n",
    "        optimizer = optimizer,\n",
    "        accuracy_func=accuracy_func,\n",
    "        device=device)\n",
    "    train_losses.append(train_loss.detach().cpu().numpy())\n",
    "    train_accuracies.append(train_acc)\n",
    "    test_losses.append(test_loss.detach().cpu().numpy())\n",
    "    test_accuracies.append(test_acc)\n",
    "\n",
    "\n",
    "    print(f\"Epoch: {epoch}\\n---------\")\n",
    "\n",
    "train_time_end_model_1 = timer()\n",
    "total_train_time_model_1 = print_train_time(start=train_time_start_model_1,\n",
    "                                           end=train_time_end_model_1,\n",
    "                                           device=device)"
   ]
  },
  {
   "cell_type": "code",
   "execution_count": 51,
   "metadata": {},
   "outputs": [
    {
     "data": {
      "image/png": "[encoded data removed]",
      "text/plain": [
       "<Figure size 1200x500 with 2 Axes>"
      ]
     },
     "metadata": {},
     "output_type": "display_data"
    }
   ],
   "source": [
    "plt.figure(figsize=(12, 5))\n",
    "plt.subplot(1, 2, 1)\n",
    "plt.plot(range(1, epochs + 1), train_losses, label='Train Loss')\n",
    "plt.plot(range(1, epochs + 1), test_losses, label='Test Loss')\n",
    "plt.title('Loss Over Epochs')\n",
    "plt.xlabel('Epochs')\n",
    "plt.ylabel('Loss')\n",
    "plt.legend()\n",
    "\n",
    "plt.subplot(1, 2, 2)\n",
    "plt.plot(range(1, epochs + 1), train_accuracies, label='Train Accuracy')\n",
    "plt.plot(range(1, epochs + 1), test_accuracies, label='Test Accuracy')\n",
    "plt.title('Accuracy Over Epochs')\n",
    "plt.xlabel('Epochs')\n",
    "plt.ylabel('Accuracy')\n",
    "plt.legend()\n",
    "\n",
    "plt.tight_layout()\n",
    "plt.show()"
   ]
  }
 ],
 "metadata": {
  "kernelspec": {
   "display_name": "Python 3",
   "language": "python",
   "name": "python3"
  },
  "language_info": {
   "codemirror_mode": {
    "name": "ipython",
    "version": 3
   },
   "file_extension": ".py",
   "mimetype": "text/x-python",
   "name": "python",
   "nbconvert_exporter": "python",
   "pygments_lexer": "ipython3",
   "version": "3.12.0"
  }
 },
 "nbformat": 4,
 "nbformat_minor": 2
}
