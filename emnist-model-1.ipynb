{
 "cells": [
  {
   "cell_type": "code",
   "execution_count": 1,
   "metadata": {},
   "outputs": [],
   "source": [
    "import numpy as np\n",
    "import pandas as pd\n",
    "import matplotlib.pyplot as plt\n",
    "import random\n",
    "import torch\n",
    "from torchvision import datasets\n",
    "from torchvision.transforms import ToTensor\n",
    "from torchvision import datasets, transforms\n",
    "from torchvision.transforms import functional as F\n",
    "from scipy.ndimage import rotate\n",
    "import time\n",
    "from torch import nn\n",
    "from torch.utils.data import DataLoader\n",
    "from torch.utils.data import ConcatDataset\n",
    "from tqdm.auto import tqdm\n",
    "from torchvision.transforms import v2"
   ]
  },
  {
   "cell_type": "code",
   "execution_count": null,
   "metadata": {},
   "outputs": [],
   "source": [
    "device = \"cuda\" if torch.cuda.is_available() else \"cpu\"\n",
    "device"
   ]
  },
  {
   "cell_type": "code",
   "execution_count": null,
   "metadata": {},
   "outputs": [],
   "source": [
    "import pandas as pd\n",
    "from torch.utils.data import Dataset, DataLoader\n",
    "\n",
    "# Define a custom dataset\n",
    "class CSVDataset(Dataset):\n",
    "    def __init__(self, csv_file):\n",
    "        # Load the data\n",
    "        self.data = pd.read_csv(csv_file)\n",
    "\n",
    "    def __getitem__(self, index):\n",
    "        # Get the data for one example\n",
    "        example_data = self.data.iloc[index]\n",
    "        # Separate the features from the target\n",
    "        features = torch.tensor(example_data[2:].values, dtype=torch.float32).reshape(1, 28, 28)\n",
    "        target = torch.tensor(example_data.iloc[1], dtype=torch.long)\n",
    "        return features, target\n",
    "\n",
    "    def __len__(self):\n",
    "        return len(self.data)\n",
    "    \n",
    "    def classes(self, index):\n",
    "        return self.data.iloc[index].iloc[1]\n",
    "\n",
    "\n",
    "# Create instances of the dataset\n",
    "train_data = CSVDataset('final_dataset/train_dataset.csv')\n",
    "test_data = CSVDataset('final_dataset/test_dataset.csv')"
   ]
  },
  {
   "cell_type": "code",
   "execution_count": null,
   "metadata": {},
   "outputs": [],
   "source": [
    "image, label = train_data[1134]\n",
    "label.item(), image.shape"
   ]
  },
  {
   "cell_type": "code",
   "execution_count": null,
   "metadata": {},
   "outputs": [],
   "source": [
    "classes_list = set()\n",
    "for i in range(len(test_data)):\n",
    "    _, target = test_data[i]\n",
    "    classes_list.add(target.item())\n",
    "\n",
    "classes_list"
   ]
  },
  {
   "cell_type": "code",
   "execution_count": null,
   "metadata": {},
   "outputs": [],
   "source": [
    "len(classes_list)"
   ]
  },
  {
   "cell_type": "code",
   "execution_count": null,
   "metadata": {},
   "outputs": [],
   "source": [
    "BATCH_SIZE = 16\n",
    "\n",
    "train_dataloader = DataLoader(train_data, #Dataset to iterate on for the according batch size.\n",
    "                              batch_size = BATCH_SIZE, #Size of every single iteration.\n",
    "                              shuffle = True, #To make the loaded data selected randomly.\n",
    "                              )\n",
    "test_dataloader = DataLoader(test_data,\n",
    "                             batch_size = BATCH_SIZE,\n",
    "                             shuffle = True)\n",
    "\n",
    "print(f\"For training data there is {len(train_dataloader)} iterations with the batch size of {BATCH_SIZE}.\")\n",
    "print(f\"For testing data there is {len(test_dataloader)} iterations with the batch size of {BATCH_SIZE}.\")"
   ]
  }
 ],
 "metadata": {
  "kernelspec": {
   "display_name": "Python 3",
   "language": "python",
   "name": "python3"
  },
  "language_info": {
   "codemirror_mode": {
    "name": "ipython",
    "version": 3
   },
   "file_extension": ".py",
   "mimetype": "text/x-python",
   "name": "python",
   "nbconvert_exporter": "python",
   "pygments_lexer": "ipython3",
   "version": "3.12.0"
  }
 },
 "nbformat": 4,
 "nbformat_minor": 2
}
