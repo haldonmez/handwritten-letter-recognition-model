{
  "cells": [
    {
      "cell_type": "code",
      "execution_count": 1,
      "metadata": {
        "id": "9nSiG5sIwfmx"
      },
      "outputs": [],
      "source": [
        "import numpy as np\n",
        "import pandas as pd\n",
        "import matplotlib.pyplot as plt\n",
        "import random\n",
        "import torch\n",
        "from torchvision import datasets\n",
        "from torchvision.transforms import ToTensor\n",
        "from torchvision import datasets, transforms\n",
        "from torchvision.transforms import functional as F\n",
        "from scipy.ndimage import rotate\n",
        "import time\n",
        "from torch import nn\n",
        "from torch.utils.data import DataLoader\n",
        "from torch.utils.data import ConcatDataset\n",
        "from tqdm.auto import tqdm\n",
        "from torchvision.transforms import v2"
      ]
    },
    {
      "cell_type": "code",
      "execution_count": 2,
      "metadata": {
        "colab": {
          "base_uri": "https://localhost:8080/",
          "height": 35
        },
        "id": "OHTe-06zwfm0",
        "outputId": "8d9f3e2a-1272-4170-c72f-54446e273d3f"
      },
      "outputs": [
        {
          "data": {
            "text/plain": [
              "'cuda'"
            ]
          },
          "execution_count": 2,
          "metadata": {},
          "output_type": "execute_result"
        }
      ],
      "source": [
        "device = \"cuda\" if torch.cuda.is_available() else \"cpu\"\n",
        "device"
      ]
    },
    {
      "cell_type": "code",
      "execution_count": 3,
      "metadata": {
        "colab": {
          "base_uri": "https://localhost:8080/"
        },
        "id": "XgUpCVp3RvKh",
        "outputId": "f1b01f14-3476-430b-af61-d2320908a54e"
      },
      "outputs": [
        {
          "name": "stdout",
          "output_type": "stream",
          "text": [
            "{0: 0, 1: 1, 2: 2, 3: 3, 4: 4, 5: 5, 6: 6, 7: 7, 8: 8, 9: 9, 10: 10, 11: 11, 12: 12, 13: 13, 14: 14, 15: 15, 16: 16, 17: 17, 18: 18, 19: 19, 20: 20, 21: 21, 22: 22, 23: 23, 24: 24, 25: 25, 26: 0, 27: 1, 28: 2, 29: 3, 30: 4, 31: 5, 32: 6, 33: 7, 34: 8, 35: 9, 36: 10, 37: 11, 38: 12, 39: 13, 40: 14, 41: 15, 42: 16, 43: 17, 44: 18, 45: 19, 46: 20, 47: 21, 48: 22, 49: 23, 50: 24, 51: 25, 52: 26, 53: 27, 54: 27, 55: 28, 56: 28, 57: 29, 58: 30, 59: 30, 60: 31, 61: 31}\n"
          ]
        }
      ],
      "source": [
        "import string\n",
        "\n",
        "# Create a dictionary for mapping\n",
        "mapping = {}\n",
        "\n",
        "for i in range(26):\n",
        "    mapping[i] = i # Map lowercase letter\n",
        "\n",
        "for i in range(26,52):\n",
        "    mapping[i]=i-26 # Map uppercase letter\n",
        "turkish_letters = {52:26, 53:27, 54:27, 55:28, 56:28, 57:29, 58:30, 59:30, 60:31, 61:31}\n",
        "mapping.update(turkish_letters)\n",
        "print(mapping)\n"
      ]
    },
    {
      "cell_type": "code",
      "execution_count": 9,
      "metadata": {
        "id": "ZnKSA7L1wfm1"
      },
      "outputs": [],
      "source": [
        "import pandas as pd\n",
        "from torch.utils.data import Dataset, DataLoader\n",
        "\n",
        "# Define a custom dataset\n",
        "class CSVDataset(Dataset):\n",
        "    def __init__(self, csv_file, mapping):\n",
        "        # Load the data\n",
        "        self.data = pd.read_csv(csv_file)\n",
        "        # Store the mapping\n",
        "        self.mapping = mapping\n",
        "\n",
        "    def __getitem__(self, index):\n",
        "        # Get the data for one example\n",
        "        example_data = self.data.iloc[index]\n",
        "        # Separate the features from the target\n",
        "        features = torch.tensor(example_data[2:].values, dtype=torch.float32).reshape(1, 28, 28)\n",
        "        target = torch.tensor(self.mapping[example_data.iloc[1]], dtype=torch.long)\n",
        "        return features, target\n",
        "\n",
        "    def __len__(self):\n",
        "        return len(self.data)\n",
        "\n",
        "    def classes(self, index):\n",
        "        return self.mapping[self.data.iloc[index].iloc[1]]\n",
        "\n",
        "# Create instances of the dataset\n",
        "train_data = CSVDataset('final_dataset/train_dataset.csv', mapping)\n",
        "test_data = CSVDataset('final_dataset/test_dataset.csv', mapping)"
      ]
    },
    {
      "cell_type": "code",
      "execution_count": 10,
      "metadata": {
        "colab": {
          "base_uri": "https://localhost:8080/"
        },
        "id": "IxrupqoIwfm1",
        "outputId": "29634998-5cf0-42a7-f8cc-f4966243dba9"
      },
      "outputs": [
        {
          "data": {
            "text/plain": [
              "(9, torch.Size([1, 28, 28]))"
            ]
          },
          "execution_count": 10,
          "metadata": {},
          "output_type": "execute_result"
        }
      ],
      "source": [
        "image, label = train_data[1134]\n",
        "label.item(), image.shape"
      ]
    },
    {
      "cell_type": "code",
      "execution_count": 11,
      "metadata": {
        "id": "QcQCl7Uwwfm2"
      },
      "outputs": [],
      "source": [
        "classes_list = set()\n",
        "for i in range(len(test_data)):\n",
        "    _, target = test_data[i]\n",
        "    classes_list.add(target.item())"
      ]
    },
    {
      "cell_type": "code",
      "execution_count": 12,
      "metadata": {
        "colab": {
          "base_uri": "https://localhost:8080/"
        },
        "id": "ketBu4FBSZla",
        "outputId": "50693082-3b82-4bb4-8007-265ea05e53c7"
      },
      "outputs": [
        {
          "data": {
            "text/plain": [
              "{0,\n",
              " 1,\n",
              " 2,\n",
              " 3,\n",
              " 4,\n",
              " 5,\n",
              " 6,\n",
              " 7,\n",
              " 8,\n",
              " 9,\n",
              " 10,\n",
              " 11,\n",
              " 12,\n",
              " 13,\n",
              " 14,\n",
              " 15,\n",
              " 16,\n",
              " 17,\n",
              " 18,\n",
              " 19,\n",
              " 20,\n",
              " 21,\n",
              " 22,\n",
              " 23,\n",
              " 24,\n",
              " 25,\n",
              " 26,\n",
              " 27,\n",
              " 28,\n",
              " 29,\n",
              " 30,\n",
              " 31}"
            ]
          },
          "execution_count": 12,
          "metadata": {},
          "output_type": "execute_result"
        }
      ],
      "source": [
        "classes_list"
      ]
    },
    {
      "cell_type": "code",
      "execution_count": 13,
      "metadata": {
        "colab": {
          "base_uri": "https://localhost:8080/",
          "height": 469
        },
        "id": "VSaS2RooFh3O",
        "outputId": "09b98398-4ec3-4864-f8f5-b150be8e1d02"
      },
      "outputs": [
        {
          "data": {
            "text/plain": [
              "<matplotlib.image.AxesImage at 0x1785a163110>"
            ]
          },
          "execution_count": 13,
          "metadata": {},
          "output_type": "execute_result"
        },
        {
          "data": {
            "image/png": "[encoded data removed]",
            "text/plain": [
              "<Figure size 640x480 with 1 Axes>"
            ]
          },
          "metadata": {},
          "output_type": "display_data"
        }
      ],
      "source": [
        "number = random.randint(0,len(train_data))\n",
        "image, label = train_data[number]\n",
        "classes_list\n",
        "plt.title(label)\n",
        "plt.imshow(image.squeeze(), cmap=\"gray\")"
      ]
    },
    {
      "cell_type": "code",
      "execution_count": 14,
      "metadata": {
        "colab": {
          "base_uri": "https://localhost:8080/"
        },
        "id": "3hQkGgYOwfm2",
        "outputId": "e6c8f88e-080a-4e1b-ab6d-608e76edd8a8"
      },
      "outputs": [
        {
          "name": "stdout",
          "output_type": "stream",
          "text": [
            "For training data there is 46113 iterations with the batch size of 8.\n",
            "For testing data there is 7801 iterations with the batch size of 8.\n"
          ]
        }
      ],
      "source": [
        "BATCH_SIZE = 8\n",
        "\n",
        "\n",
        "train_dataloader = DataLoader(train_data, #Dataset to iterate on for the according batch size.\n",
        "                              batch_size = BATCH_SIZE, #Size of every single iteration.\n",
        "                              shuffle = True, #To make the loaded data selected randomly.\n",
        "                              )\n",
        "test_dataloader = DataLoader(test_data,\n",
        "                             batch_size = BATCH_SIZE,\n",
        "                             shuffle = True)\n",
        "\n",
        "print(f\"For training data there is {len(train_dataloader)} iterations with the batch size of {BATCH_SIZE}.\")\n",
        "print(f\"For testing data there is {len(test_dataloader)} iterations with the batch size of {BATCH_SIZE}.\")"
      ]
    },
    {
      "cell_type": "code",
      "execution_count": 15,
      "metadata": {
        "colab": {
          "base_uri": "https://localhost:8080/"
        },
        "id": "3eKzdjR0wfm3",
        "outputId": "fa4a47a0-f19f-46d9-99ad-19193f6acb39"
      },
      "outputs": [
        {
          "data": {
            "text/plain": [
              "LetterRecognizerModel3(\n",
              "  (block_1): Sequential(\n",
              "    (0): Conv2d(1, 10, kernel_size=(3, 3), stride=(1, 1), padding=(1, 1))\n",
              "    (1): ReLU()\n",
              "    (2): Conv2d(10, 10, kernel_size=(3, 3), stride=(1, 1), padding=(1, 1))\n",
              "    (3): ReLU()\n",
              "    (4): MaxPool2d(kernel_size=2, stride=2, padding=0, dilation=1, ceil_mode=False)\n",
              "  )\n",
              "  (block_2): Sequential(\n",
              "    (0): Conv2d(10, 10, kernel_size=(3, 3), stride=(1, 1), padding=(1, 1))\n",
              "    (1): ReLU()\n",
              "    (2): Conv2d(10, 10, kernel_size=(3, 3), stride=(1, 1), padding=(1, 1))\n",
              "    (3): ReLU()\n",
              "    (4): MaxPool2d(kernel_size=2, stride=2, padding=0, dilation=1, ceil_mode=False)\n",
              "  )\n",
              "  (classifier): Sequential(\n",
              "    (0): Flatten(start_dim=1, end_dim=-1)\n",
              "    (1): Linear(in_features=490, out_features=32, bias=True)\n",
              "  )\n",
              ")"
            ]
          },
          "execution_count": 15,
          "metadata": {},
          "output_type": "execute_result"
        }
      ],
      "source": [
        "import torch\n",
        "from torch import nn\n",
        "import torch.nn.functional as F\n",
        "\n",
        "class LetterRecognizerModel3(nn.Module):\n",
        "    \"\"\"\n",
        "    Model architecture copying TinyVGG from:\n",
        "    https://poloclub.github.io/cnn-explainer/\n",
        "    \"\"\"\n",
        "    def __init__(self, input_shape: int, hidden_units: int, output_shape: int):\n",
        "        super().__init__()\n",
        "        self.block_1 = nn.Sequential(\n",
        "            nn.Conv2d(in_channels=input_shape,\n",
        "                      out_channels=hidden_units,\n",
        "                      kernel_size=3, # how big is the square that's going over the image?\n",
        "                      stride=1, # default\n",
        "                      padding=1),# options = \"valid\" (no padding) or \"same\" (output has same shape as input) or int for specific number\n",
        "            nn.ReLU(),\n",
        "            nn.Conv2d(in_channels=hidden_units,\n",
        "                      out_channels=hidden_units,\n",
        "                      kernel_size=3,\n",
        "                      stride=1,\n",
        "                      padding=1),\n",
        "            nn.ReLU(),\n",
        "            nn.MaxPool2d(kernel_size=2,\n",
        "                         stride=2) # default stride value is same as kernel_size\n",
        "        )\n",
        "        self.block_2 = nn.Sequential(\n",
        "            nn.Conv2d(hidden_units, hidden_units, 3, padding=1),\n",
        "            nn.ReLU(),\n",
        "            nn.Conv2d(hidden_units, hidden_units, 3, padding=1),\n",
        "            nn.ReLU(),\n",
        "            nn.MaxPool2d(2)\n",
        "        )\n",
        "        self.classifier = nn.Sequential(\n",
        "            nn.Flatten(),\n",
        "            # Where did this in_features shape come from?\n",
        "            # It's because each layer of our network compresses and changes the shape of our inputs data.\n",
        "            nn.Linear(in_features=hidden_units*7*7,\n",
        "                      out_features=output_shape)\n",
        "        )\n",
        "\n",
        "    def forward(self, x: torch.Tensor):\n",
        "        x = self.block_1(x)\n",
        "        # print(x.shape)\n",
        "        x = self.block_2(x)\n",
        "        # print(x.shape)\n",
        "        x = self.classifier(x)\n",
        "        # print(x.shape)\n",
        "        return x\n",
        "\n",
        "\n",
        "torch.manual_seed(42)\n",
        "\n",
        "model_3 = LetterRecognizerModel3(input_shape=1,\n",
        "                                 hidden_units=10,\n",
        "                                 output_shape=len(classes_list)).to(device)\n",
        "\n",
        "model_3\n"
      ]
    },
    {
      "cell_type": "code",
      "execution_count": 17,
      "metadata": {
        "id": "PgkNTZjawfm3"
      },
      "outputs": [],
      "source": [
        "loss_fn = nn.CrossEntropyLoss()\n",
        "optimizer = torch.optim.SGD(params=model_3.parameters(),\n",
        "                             lr=0.001)"
      ]
    },
    {
      "cell_type": "code",
      "execution_count": 18,
      "metadata": {
        "id": "DUapJMyOwfm4"
      },
      "outputs": [],
      "source": [
        "def accuracy_func(y_true, y_pred):\n",
        "  correct = torch.eq(y_true, y_pred).sum().item()\n",
        "  acc = (correct/len(y_pred)) * 100\n",
        "  return acc"
      ]
    },
    {
      "cell_type": "code",
      "execution_count": 19,
      "metadata": {
        "id": "lPQ892Sfwfm4"
      },
      "outputs": [],
      "source": [
        "from timeit import default_timer as timer\n",
        "def print_train_time(start: float, end: float, device: torch.device = None):\n",
        "    \"\"\"Prints difference between start and end time.\n",
        "\n",
        "    Args:\n",
        "        start (float): Start time of computation (preferred in timeit format).\n",
        "        end (float): End time of computation.\n",
        "        device ([type], optional): Device that compute is running on. Defaults to None.\n",
        "\n",
        "    Returns:\n",
        "        float: time between start and end in seconds (higher is longer).\n",
        "    \"\"\"\n",
        "    total_time = end - start\n",
        "    print(f\"Train time on {device}: {total_time:.3f} seconds\")\n",
        "    return total_time\n",
        "# Imported from learnpytorch.io directly..."
      ]
    },
    {
      "cell_type": "code",
      "execution_count": 20,
      "metadata": {
        "id": "OYI5q5JWwfm4"
      },
      "outputs": [],
      "source": [
        "def train_part(model: torch.nn.Module,\n",
        "               data_loader: torch.utils.data.DataLoader,\n",
        "               loss_fn: torch.nn.Module,\n",
        "               optimizer: torch.optim.Optimizer,\n",
        "               accuracy_func,\n",
        "               device: torch.device = device):\n",
        "  train_loss, train_acc = 0 , 0\n",
        "  model.to(device)\n",
        "\n",
        "  for batch, (X,y) in enumerate(data_loader):\n",
        "    X, y = X.to(device) , y.to(device)\n",
        "\n",
        "    y_pred = model(X)\n",
        "\n",
        "    loss = loss_fn(y_pred, y)\n",
        "    train_loss += loss\n",
        "    train_acc += accuracy_func(y_true=y,\n",
        "                               y_pred=y_pred.argmax(dim=1))\n",
        "\n",
        "    optimizer.zero_grad()\n",
        "    loss.backward()\n",
        "    optimizer.step()\n",
        "\n",
        "  train_loss /= len(data_loader)\n",
        "  train_acc /= len(data_loader)\n",
        "  print(f\"Train loss is:{train_loss:.5f}, Train accuracy is:{train_acc:.2f}%\")\n",
        "  return train_loss, train_acc\n",
        "\n",
        "def test_part(model: torch.nn.Module,\n",
        "               data_loader: torch.utils.data.DataLoader,\n",
        "               loss_fn: torch.nn.Module,\n",
        "               optimizer: torch.optim.Optimizer,\n",
        "               accuracy_func,\n",
        "               device: torch.device = device):\n",
        "  test_loss, test_acc = 0, 0\n",
        "  model.to(device)\n",
        "  model.eval()\n",
        "\n",
        "  with torch.inference_mode():\n",
        "    for X, y in data_loader:\n",
        "\n",
        "      X, y = X.to(device), y.to(device)\n",
        "\n",
        "      test_pred = model(X)\n",
        "      test_loss += loss_fn(test_pred, y)\n",
        "      test_acc += accuracy_func(y_true=y,\n",
        "                                y_pred = test_pred.argmax(dim=1))\n",
        "\n",
        "    test_loss /= len(data_loader)\n",
        "    test_acc /= len(data_loader)\n",
        "\n",
        "    print(f\"Test loss is:{test_loss:.6f}, Test accuracy is:{test_acc:.6f}%\")\n",
        "  return test_loss, test_acc"
      ]
    },
    {
      "cell_type": "code",
      "execution_count": 21,
      "metadata": {
        "colab": {
          "base_uri": "https://localhost:8080/",
          "height": 49,
          "referenced_widgets": [
            "e90aa37703234df8b5f7aa75a16ae415",
            "eaf43d1dc0fd42488b597eb3c42c0d79",
            "a76146d0267c4d8d91f1c87fd5bea7b0",
            "693e49513b7b498d9fd0e9132a0130a1",
            "9db79cb8a6204514938514980d7a5b05",
            "3f22d14738424bd5b2de3278eec4d6f6",
            "50b9510d92c54f5892c9a9e6697350e0",
            "50578f9a55a047d891d3a25aefaf9089",
            "a1185ce4912e49eba720efe093f692c4",
            "0b8fd61e210f46f1b93e2317ec21e711",
            "f6d62402c59a47db9f3814f9003a031a"
          ]
        },
        "id": "mHl64XdYwfm5",
        "outputId": "8fa1c7fa-6a5d-4ea0-f0fe-78efdbd483e7"
      },
      "outputs": [
        {
          "data": {
            "application/vnd.jupyter.widget-view+json": {
              "model_id": "5521d6f511c442e994baf98993c32759",
              "version_major": 2,
              "version_minor": 0
            },
            "text/plain": [
              "  0%|          | 0/50 [00:00<?, ?it/s]"
            ]
          },
          "metadata": {},
          "output_type": "display_data"
        },
        {
          "name": "stdout",
          "output_type": "stream",
          "text": [
            "Train loss is:0.49964, Train accuracy is:84.58%\n",
            "Test loss is:0.382964, Test accuracy is:86.432829%\n",
            "Epoch: 0\n",
            "---------\n",
            "Train loss is:0.32387, Train accuracy is:88.80%\n",
            "Test loss is:0.347085, Test accuracy is:87.033714%\n",
            "Epoch: 1\n",
            "---------\n",
            "Train loss is:0.29658, Train accuracy is:89.65%\n",
            "Test loss is:0.317439, Test accuracy is:89.001410%\n",
            "Epoch: 2\n",
            "---------\n",
            "Train loss is:0.28102, Train accuracy is:90.43%\n",
            "Test loss is:0.326918, Test accuracy is:89.230547%\n",
            "Epoch: 3\n",
            "---------\n",
            "Train loss is:0.26855, Train accuracy is:91.23%\n",
            "Test loss is:0.287670, Test accuracy is:90.844123%\n",
            "Epoch: 4\n",
            "---------\n",
            "Train loss is:0.24956, Train accuracy is:91.82%\n",
            "Test loss is:0.268144, Test accuracy is:90.940264%\n",
            "Epoch: 5\n",
            "---------\n",
            "Train loss is:0.23382, Train accuracy is:92.23%\n",
            "Test loss is:0.253276, Test accuracy is:91.494360%\n",
            "Epoch: 6\n",
            "---------\n",
            "Train loss is:0.22394, Train accuracy is:92.59%\n",
            "Test loss is:0.251280, Test accuracy is:91.639533%\n",
            "Epoch: 7\n",
            "---------\n",
            "Train loss is:0.21799, Train accuracy is:92.76%\n",
            "Test loss is:0.243416, Test accuracy is:91.885656%\n",
            "Epoch: 8\n",
            "---------\n",
            "Train loss is:0.21310, Train accuracy is:92.94%\n",
            "Test loss is:0.234679, Test accuracy is:92.355788%\n",
            "Epoch: 9\n",
            "---------\n",
            "Train loss is:0.20959, Train accuracy is:93.05%\n",
            "Test loss is:0.235626, Test accuracy is:92.076336%\n",
            "Epoch: 10\n",
            "---------\n",
            "Train loss is:0.20643, Train accuracy is:93.14%\n",
            "Test loss is:0.229547, Test accuracy is:92.506409%\n",
            "Epoch: 11\n",
            "---------\n",
            "Train loss is:0.20338, Train accuracy is:93.24%\n",
            "Test loss is:0.233742, Test accuracy is:92.280477%\n",
            "Epoch: 12\n",
            "---------\n",
            "Train loss is:0.20105, Train accuracy is:93.32%\n",
            "Test loss is:0.221397, Test accuracy is:92.653185%\n",
            "Epoch: 13\n",
            "---------\n",
            "Train loss is:0.19931, Train accuracy is:93.34%\n",
            "Test loss is:0.218219, Test accuracy is:92.850276%\n",
            "Epoch: 14\n",
            "---------\n",
            "Train loss is:0.19654, Train accuracy is:93.45%\n",
            "Test loss is:0.221006, Test accuracy is:92.561851%\n",
            "Epoch: 15\n",
            "---------\n",
            "Train loss is:0.19439, Train accuracy is:93.53%\n",
            "Test loss is:0.212344, Test accuracy is:93.040956%\n",
            "Epoch: 16\n",
            "---------\n",
            "Train loss is:0.19246, Train accuracy is:93.60%\n",
            "Test loss is:0.212359, Test accuracy is:93.108255%\n",
            "Epoch: 17\n",
            "---------\n",
            "Train loss is:0.19039, Train accuracy is:93.63%\n",
            "Test loss is:0.217722, Test accuracy is:92.817267%\n",
            "Epoch: 18\n",
            "---------\n",
            "Train loss is:0.18883, Train accuracy is:93.67%\n",
            "Test loss is:0.209995, Test accuracy is:93.172991%\n",
            "Epoch: 19\n",
            "---------\n",
            "Train loss is:0.18724, Train accuracy is:93.74%\n",
            "Test loss is:0.208050, Test accuracy is:93.207602%\n",
            "Epoch: 20\n",
            "---------\n",
            "Train loss is:0.18515, Train accuracy is:93.80%\n",
            "Test loss is:0.210378, Test accuracy is:93.207602%\n",
            "Epoch: 21\n",
            "---------\n",
            "Train loss is:0.18350, Train accuracy is:93.87%\n",
            "Test loss is:0.202352, Test accuracy is:93.340597%\n",
            "Epoch: 22\n",
            "---------\n",
            "Train loss is:0.18244, Train accuracy is:93.92%\n",
            "Test loss is:0.203175, Test accuracy is:93.435777%\n",
            "Epoch: 23\n",
            "---------\n",
            "Train loss is:0.18077, Train accuracy is:93.95%\n",
            "Test loss is:0.211716, Test accuracy is:93.007307%\n",
            "Epoch: 24\n",
            "---------\n",
            "Train loss is:0.17948, Train accuracy is:94.01%\n",
            "Test loss is:0.200559, Test accuracy is:93.520062%\n",
            "Epoch: 25\n",
            "---------\n",
            "Train loss is:0.17851, Train accuracy is:94.02%\n",
            "Test loss is:0.202598, Test accuracy is:93.476798%\n",
            "Epoch: 26\n",
            "---------\n",
            "Train loss is:0.17740, Train accuracy is:94.07%\n",
            "Test loss is:0.206713, Test accuracy is:93.129086%\n",
            "Epoch: 27\n",
            "---------\n",
            "Train loss is:0.17654, Train accuracy is:94.07%\n",
            "Test loss is:0.200184, Test accuracy is:93.419113%\n",
            "Epoch: 28\n",
            "---------\n",
            "Train loss is:0.17568, Train accuracy is:94.14%\n",
            "Test loss is:0.200706, Test accuracy is:93.379054%\n",
            "Epoch: 29\n",
            "---------\n",
            "Train loss is:0.17458, Train accuracy is:94.15%\n",
            "Test loss is:0.198170, Test accuracy is:93.478400%\n",
            "Epoch: 30\n",
            "---------\n",
            "Train loss is:0.17374, Train accuracy is:94.16%\n",
            "Test loss is:0.201352, Test accuracy is:93.332586%\n",
            "Epoch: 31\n",
            "---------\n",
            "Train loss is:0.17329, Train accuracy is:94.18%\n",
            "Test loss is:0.202769, Test accuracy is:93.363671%\n",
            "Epoch: 32\n",
            "---------\n",
            "Train loss is:0.17218, Train accuracy is:94.22%\n",
            "Test loss is:0.198124, Test accuracy is:93.561723%\n",
            "Epoch: 33\n",
            "---------\n",
            "Train loss is:0.17121, Train accuracy is:94.24%\n",
            "Test loss is:0.194836, Test accuracy is:93.614601%\n",
            "Epoch: 34\n",
            "---------\n",
            "Train loss is:0.17088, Train accuracy is:94.25%\n",
            "Test loss is:0.194376, Test accuracy is:93.483207%\n",
            "Epoch: 35\n",
            "---------\n",
            "Train loss is:0.17017, Train accuracy is:94.25%\n",
            "Test loss is:0.210050, Test accuracy is:92.664402%\n",
            "Epoch: 36\n",
            "---------\n",
            "Train loss is:0.16925, Train accuracy is:94.30%\n",
            "Test loss is:0.195206, Test accuracy is:93.611396%\n",
            "Epoch: 37\n",
            "---------\n",
            "Train loss is:0.16890, Train accuracy is:94.30%\n",
            "Test loss is:0.194964, Test accuracy is:93.536726%\n",
            "Epoch: 38\n",
            "---------\n",
            "Train loss is:0.16812, Train accuracy is:94.34%\n",
            "Test loss is:0.197579, Test accuracy is:93.553711%\n",
            "Epoch: 39\n",
            "---------\n",
            "Train loss is:0.16757, Train accuracy is:94.31%\n",
            "Test loss is:0.200033, Test accuracy is:93.567171%\n",
            "Epoch: 40\n",
            "---------\n",
            "Train loss is:0.16714, Train accuracy is:94.37%\n",
            "Test loss is:0.192030, Test accuracy is:93.654660%\n",
            "Epoch: 41\n",
            "---------\n",
            "Train loss is:0.16663, Train accuracy is:94.36%\n",
            "Test loss is:0.198376, Test accuracy is:93.463018%\n",
            "Epoch: 42\n",
            "---------\n",
            "Train loss is:0.16656, Train accuracy is:94.34%\n",
            "Test loss is:0.191801, Test accuracy is:93.790860%\n",
            "Epoch: 43\n",
            "---------\n",
            "Train loss is:0.16603, Train accuracy is:94.37%\n",
            "Test loss is:0.195921, Test accuracy is:93.580951%\n",
            "Epoch: 44\n",
            "---------\n",
            "Train loss is:0.16531, Train accuracy is:94.38%\n",
            "Test loss is:0.193382, Test accuracy is:93.718754%\n",
            "Epoch: 45\n",
            "---------\n",
            "Train loss is:0.16498, Train accuracy is:94.44%\n",
            "Test loss is:0.194615, Test accuracy is:93.616203%\n",
            "Epoch: 46\n",
            "---------\n",
            "Train loss is:0.16460, Train accuracy is:94.47%\n",
            "Test loss is:0.191779, Test accuracy is:93.717152%\n",
            "Epoch: 47\n",
            "---------\n",
            "Train loss is:0.16416, Train accuracy is:94.46%\n",
            "Test loss is:0.191535, Test accuracy is:93.729971%\n",
            "Epoch: 48\n",
            "---------\n",
            "Train loss is:0.16377, Train accuracy is:94.45%\n",
            "Test loss is:0.213101, Test accuracy is:92.829445%\n",
            "Epoch: 49\n",
            "---------\n",
            "Train time on cuda: 208000.888 seconds\n"
          ]
        }
      ],
      "source": [
        "torch.manual_seed(42)\n",
        "\n",
        "from timeit import default_timer as timer\n",
        "train_time_start_model_3 = timer()\n",
        "\n",
        "train_losses = []\n",
        "train_accuracies = []\n",
        "test_losses = []\n",
        "test_accuracies = []\n",
        "\n",
        "# Train and test model\n",
        "epochs = 50\n",
        "for epoch in tqdm(range(epochs)):\n",
        "\n",
        "    train_loss, train_acc = train_part(data_loader=train_dataloader,\n",
        "        model=model_3,\n",
        "        loss_fn=loss_fn,\n",
        "        optimizer=optimizer,\n",
        "        accuracy_func=accuracy_func,\n",
        "        device=device)\n",
        "    test_loss, test_acc = test_part(data_loader=test_dataloader,\n",
        "        model=model_3,\n",
        "        loss_fn=loss_fn,\n",
        "        optimizer = optimizer,\n",
        "        accuracy_func=accuracy_func,\n",
        "        device=device)\n",
        "    train_losses.append(train_loss.detach().cpu().numpy())\n",
        "    train_accuracies.append(train_acc)\n",
        "    test_losses.append(test_loss.detach().cpu().numpy())\n",
        "    test_accuracies.append(test_acc)\n",
        "\n",
        "\n",
        "    print(f\"Epoch: {epoch}\\n---------\")\n",
        "\n",
        "train_time_end_model_3 = timer()\n",
        "total_train_time_model_3 = print_train_time(start=train_time_start_model_3,\n",
        "                                           end=train_time_end_model_3,\n",
        "                                           device=device)"
      ]
    },
    {
      "cell_type": "code",
      "execution_count": 22,
      "metadata": {},
      "outputs": [
        {
          "data": {
            "image/png": "[encoded data removed]",
            "text/plain": [
              "<Figure size 1200x500 with 2 Axes>"
            ]
          },
          "metadata": {},
          "output_type": "display_data"
        }
      ],
      "source": [
        "plt.figure(figsize=(12, 5))\n",
        "plt.subplot(1, 2, 1)\n",
        "plt.plot(range(1, epochs + 1), train_losses, label='Train Loss')\n",
        "plt.plot(range(1, epochs + 1), test_losses, label='Test Loss')\n",
        "plt.title('Loss Over Epochs')\n",
        "plt.xlabel('Epochs')\n",
        "plt.ylabel('Loss')\n",
        "plt.legend()\n",
        "\n",
        "plt.subplot(1, 2, 2)\n",
        "plt.plot(range(1, epochs + 1), train_accuracies, label='Train Accuracy')\n",
        "plt.plot(range(1, epochs + 1), test_accuracies, label='Test Accuracy')\n",
        "plt.title('Accuracy Over Epochs')\n",
        "plt.xlabel('Epochs')\n",
        "plt.ylabel('Accuracy')\n",
        "plt.legend()\n",
        "\n",
        "plt.tight_layout()\n",
        "plt.show()"
      ]
    },
    {
      "cell_type": "code",
      "execution_count": 23,
      "metadata": {},
      "outputs": [
        {
          "data": {
            "text/plain": [
              "{'model_name': 'LetterRecognizerModel3',\n",
              " 'model_loss': 0.2130967676639557,\n",
              " 'model_acc': 92.82944494295603}"
            ]
          },
          "execution_count": 23,
          "metadata": {},
          "output_type": "execute_result"
        }
      ],
      "source": [
        "# Move values to device\n",
        "torch.manual_seed(42)\n",
        "def eval_model(model: torch.nn.Module,\n",
        "               data_loader: torch.utils.data.DataLoader,\n",
        "               loss_fn: torch.nn.Module,\n",
        "               accuracy_fn,\n",
        "               device: torch.device = device):\n",
        "    \"\"\"Evaluates a given model on a given dataset.\n",
        "\n",
        "    Args:\n",
        "        model (torch.nn.Module): A PyTorch model capable of making predictions on data_loader.\n",
        "        data_loader (torch.utils.data.DataLoader): The target dataset to predict on.\n",
        "        loss_fn (torch.nn.Module): The loss function of model.\n",
        "        accuracy_fn: An accuracy function to compare the models predictions to the truth labels.\n",
        "        device (str, optional): Target device to compute on. Defaults to device.\n",
        "\n",
        "    Returns:\n",
        "        (dict): Results of model making predictions on data_loader.\n",
        "    \"\"\"\n",
        "    loss, acc = 0, 0\n",
        "    model.eval()\n",
        "    with torch.inference_mode():\n",
        "        for X, y in data_loader:\n",
        "            # Send data to the target device\n",
        "            X, y = X.to(device), y.to(device)\n",
        "            y_pred = model(X)\n",
        "            loss += loss_fn(y_pred, y)\n",
        "            acc += accuracy_fn(y_true=y, y_pred=y_pred.argmax(dim=1))\n",
        "\n",
        "        # Scale loss and acc\n",
        "        loss /= len(data_loader)\n",
        "        acc /= len(data_loader)\n",
        "    return {\"model_name\": model.__class__.__name__, # only works when model was created with a class\n",
        "            \"model_loss\": loss.item(),\n",
        "            \"model_acc\": acc}\n",
        "\n",
        "# Calculate model 1 results with device-agnostic code\n",
        "model_3_results = eval_model(model=model_3, data_loader=test_dataloader,\n",
        "    loss_fn=loss_fn, accuracy_fn=accuracy_func,\n",
        "    device=device\n",
        ")\n",
        "model_3_results"
      ]
    },
    {
      "cell_type": "code",
      "execution_count": null,
      "metadata": {},
      "outputs": [],
      "source": [
        "from pathlib import Path\n",
        "\n",
        "# Create models directory (if it doesn't already exist), see: https://docs.python.org/3/library/pathlib.html#pathlib.Path.mkdir\n",
        "MODEL_PATH = Path(\"saved_models\")\n",
        "MODEL_PATH.mkdir(parents=True, # create parent directories if needed\n",
        "                 exist_ok=True # if models directory already exists, don't error\n",
        ")\n",
        "\n",
        "# Create model save path\n",
        "MODEL_NAME = \"emnist_model_3_ver1.pth\"\n",
        "MODEL_SAVE_PATH = MODEL_PATH / MODEL_NAME\n",
        "\n",
        "# Save the model state dict\n",
        "print(f\"Saving model to: {MODEL_SAVE_PATH}\")\n",
        "torch.save(obj=model_3.state_dict(), # only saving the state_dict() only saves the learned parameters\n",
        "           f=MODEL_SAVE_PATH)"
      ]
    }
  ],
  "metadata": {
    "colab": {
      "provenance": []
    },
    "kernelspec": {
      "display_name": "Python 3",
      "name": "python3"
    },
    "language_info": {
      "codemirror_mode": {
        "name": "ipython",
        "version": 3
      },
      "file_extension": ".py",
      "mimetype": "text/x-python",
      "name": "python",
      "nbconvert_exporter": "python",
      "pygments_lexer": "ipython3",
      "version": "3.12.0"
    },
    "widgets": {
      "application/vnd.jupyter.widget-state+json": {
        "0b8fd61e210f46f1b93e2317ec21e711": {
          "model_module": "@jupyter-widgets/base",
          "model_module_version": "1.2.0",
          "model_name": "LayoutModel",
          "state": {
            "_model_module": "@jupyter-widgets/base",
            "_model_module_version": "1.2.0",
            "_model_name": "LayoutModel",
            "_view_count": null,
            "_view_module": "@jupyter-widgets/base",
            "_view_module_version": "1.2.0",
            "_view_name": "LayoutView",
            "align_content": null,
            "align_items": null,
            "align_self": null,
            "border": null,
            "bottom": null,
            "display": null,
            "flex": null,
            "flex_flow": null,
            "grid_area": null,
            "grid_auto_columns": null,
            "grid_auto_flow": null,
            "grid_auto_rows": null,
            "grid_column": null,
            "grid_gap": null,
            "grid_row": null,
            "grid_template_areas": null,
            "grid_template_columns": null,
            "grid_template_rows": null,
            "height": null,
            "justify_content": null,
            "justify_items": null,
            "left": null,
            "margin": null,
            "max_height": null,
            "max_width": null,
            "min_height": null,
            "min_width": null,
            "object_fit": null,
            "object_position": null,
            "order": null,
            "overflow": null,
            "overflow_x": null,
            "overflow_y": null,
            "padding": null,
            "right": null,
            "top": null,
            "visibility": null,
            "width": null
          }
        },
        "3f22d14738424bd5b2de3278eec4d6f6": {
          "model_module": "@jupyter-widgets/base",
          "model_module_version": "1.2.0",
          "model_name": "LayoutModel",
          "state": {
            "_model_module": "@jupyter-widgets/base",
            "_model_module_version": "1.2.0",
            "_model_name": "LayoutModel",
            "_view_count": null,
            "_view_module": "@jupyter-widgets/base",
            "_view_module_version": "1.2.0",
            "_view_name": "LayoutView",
            "align_content": null,
            "align_items": null,
            "align_self": null,
            "border": null,
            "bottom": null,
            "display": null,
            "flex": null,
            "flex_flow": null,
            "grid_area": null,
            "grid_auto_columns": null,
            "grid_auto_flow": null,
            "grid_auto_rows": null,
            "grid_column": null,
            "grid_gap": null,
            "grid_row": null,
            "grid_template_areas": null,
            "grid_template_columns": null,
            "grid_template_rows": null,
            "height": null,
            "justify_content": null,
            "justify_items": null,
            "left": null,
            "margin": null,
            "max_height": null,
            "max_width": null,
            "min_height": null,
            "min_width": null,
            "object_fit": null,
            "object_position": null,
            "order": null,
            "overflow": null,
            "overflow_x": null,
            "overflow_y": null,
            "padding": null,
            "right": null,
            "top": null,
            "visibility": null,
            "width": null
          }
        },
        "50578f9a55a047d891d3a25aefaf9089": {
          "model_module": "@jupyter-widgets/base",
          "model_module_version": "1.2.0",
          "model_name": "LayoutModel",
          "state": {
            "_model_module": "@jupyter-widgets/base",
            "_model_module_version": "1.2.0",
            "_model_name": "LayoutModel",
            "_view_count": null,
            "_view_module": "@jupyter-widgets/base",
            "_view_module_version": "1.2.0",
            "_view_name": "LayoutView",
            "align_content": null,
            "align_items": null,
            "align_self": null,
            "border": null,
            "bottom": null,
            "display": null,
            "flex": null,
            "flex_flow": null,
            "grid_area": null,
            "grid_auto_columns": null,
            "grid_auto_flow": null,
            "grid_auto_rows": null,
            "grid_column": null,
            "grid_gap": null,
            "grid_row": null,
            "grid_template_areas": null,
            "grid_template_columns": null,
            "grid_template_rows": null,
            "height": null,
            "justify_content": null,
            "justify_items": null,
            "left": null,
            "margin": null,
            "max_height": null,
            "max_width": null,
            "min_height": null,
            "min_width": null,
            "object_fit": null,
            "object_position": null,
            "order": null,
            "overflow": null,
            "overflow_x": null,
            "overflow_y": null,
            "padding": null,
            "right": null,
            "top": null,
            "visibility": null,
            "width": null
          }
        },
        "50b9510d92c54f5892c9a9e6697350e0": {
          "model_module": "@jupyter-widgets/controls",
          "model_module_version": "1.5.0",
          "model_name": "DescriptionStyleModel",
          "state": {
            "_model_module": "@jupyter-widgets/controls",
            "_model_module_version": "1.5.0",
            "_model_name": "DescriptionStyleModel",
            "_view_count": null,
            "_view_module": "@jupyter-widgets/base",
            "_view_module_version": "1.2.0",
            "_view_name": "StyleView",
            "description_width": ""
          }
        },
        "693e49513b7b498d9fd0e9132a0130a1": {
          "model_module": "@jupyter-widgets/controls",
          "model_module_version": "1.5.0",
          "model_name": "HTMLModel",
          "state": {
            "_dom_classes": [],
            "_model_module": "@jupyter-widgets/controls",
            "_model_module_version": "1.5.0",
            "_model_name": "HTMLModel",
            "_view_count": null,
            "_view_module": "@jupyter-widgets/controls",
            "_view_module_version": "1.5.0",
            "_view_name": "HTMLView",
            "description": "",
            "description_tooltip": null,
            "layout": "IPY_MODEL_0b8fd61e210f46f1b93e2317ec21e711",
            "placeholder": "​",
            "style": "IPY_MODEL_f6d62402c59a47db9f3814f9003a031a",
            "value": " 0/50 [00:00&lt;?, ?it/s]"
          }
        },
        "9db79cb8a6204514938514980d7a5b05": {
          "model_module": "@jupyter-widgets/base",
          "model_module_version": "1.2.0",
          "model_name": "LayoutModel",
          "state": {
            "_model_module": "@jupyter-widgets/base",
            "_model_module_version": "1.2.0",
            "_model_name": "LayoutModel",
            "_view_count": null,
            "_view_module": "@jupyter-widgets/base",
            "_view_module_version": "1.2.0",
            "_view_name": "LayoutView",
            "align_content": null,
            "align_items": null,
            "align_self": null,
            "border": null,
            "bottom": null,
            "display": null,
            "flex": null,
            "flex_flow": null,
            "grid_area": null,
            "grid_auto_columns": null,
            "grid_auto_flow": null,
            "grid_auto_rows": null,
            "grid_column": null,
            "grid_gap": null,
            "grid_row": null,
            "grid_template_areas": null,
            "grid_template_columns": null,
            "grid_template_rows": null,
            "height": null,
            "justify_content": null,
            "justify_items": null,
            "left": null,
            "margin": null,
            "max_height": null,
            "max_width": null,
            "min_height": null,
            "min_width": null,
            "object_fit": null,
            "object_position": null,
            "order": null,
            "overflow": null,
            "overflow_x": null,
            "overflow_y": null,
            "padding": null,
            "right": null,
            "top": null,
            "visibility": null,
            "width": null
          }
        },
        "a1185ce4912e49eba720efe093f692c4": {
          "model_module": "@jupyter-widgets/controls",
          "model_module_version": "1.5.0",
          "model_name": "ProgressStyleModel",
          "state": {
            "_model_module": "@jupyter-widgets/controls",
            "_model_module_version": "1.5.0",
            "_model_name": "ProgressStyleModel",
            "_view_count": null,
            "_view_module": "@jupyter-widgets/base",
            "_view_module_version": "1.2.0",
            "_view_name": "StyleView",
            "bar_color": null,
            "description_width": ""
          }
        },
        "a76146d0267c4d8d91f1c87fd5bea7b0": {
          "model_module": "@jupyter-widgets/controls",
          "model_module_version": "1.5.0",
          "model_name": "FloatProgressModel",
          "state": {
            "_dom_classes": [],
            "_model_module": "@jupyter-widgets/controls",
            "_model_module_version": "1.5.0",
            "_model_name": "FloatProgressModel",
            "_view_count": null,
            "_view_module": "@jupyter-widgets/controls",
            "_view_module_version": "1.5.0",
            "_view_name": "ProgressView",
            "bar_style": "",
            "description": "",
            "description_tooltip": null,
            "layout": "IPY_MODEL_50578f9a55a047d891d3a25aefaf9089",
            "max": 50,
            "min": 0,
            "orientation": "horizontal",
            "style": "IPY_MODEL_a1185ce4912e49eba720efe093f692c4",
            "value": 0
          }
        },
        "e90aa37703234df8b5f7aa75a16ae415": {
          "model_module": "@jupyter-widgets/controls",
          "model_module_version": "1.5.0",
          "model_name": "HBoxModel",
          "state": {
            "_dom_classes": [],
            "_model_module": "@jupyter-widgets/controls",
            "_model_module_version": "1.5.0",
            "_model_name": "HBoxModel",
            "_view_count": null,
            "_view_module": "@jupyter-widgets/controls",
            "_view_module_version": "1.5.0",
            "_view_name": "HBoxView",
            "box_style": "",
            "children": [
              "IPY_MODEL_eaf43d1dc0fd42488b597eb3c42c0d79",
              "IPY_MODEL_a76146d0267c4d8d91f1c87fd5bea7b0",
              "IPY_MODEL_693e49513b7b498d9fd0e9132a0130a1"
            ],
            "layout": "IPY_MODEL_9db79cb8a6204514938514980d7a5b05"
          }
        },
        "eaf43d1dc0fd42488b597eb3c42c0d79": {
          "model_module": "@jupyter-widgets/controls",
          "model_module_version": "1.5.0",
          "model_name": "HTMLModel",
          "state": {
            "_dom_classes": [],
            "_model_module": "@jupyter-widgets/controls",
            "_model_module_version": "1.5.0",
            "_model_name": "HTMLModel",
            "_view_count": null,
            "_view_module": "@jupyter-widgets/controls",
            "_view_module_version": "1.5.0",
            "_view_name": "HTMLView",
            "description": "",
            "description_tooltip": null,
            "layout": "IPY_MODEL_3f22d14738424bd5b2de3278eec4d6f6",
            "placeholder": "​",
            "style": "IPY_MODEL_50b9510d92c54f5892c9a9e6697350e0",
            "value": "  0%"
          }
        },
        "f6d62402c59a47db9f3814f9003a031a": {
          "model_module": "@jupyter-widgets/controls",
          "model_module_version": "1.5.0",
          "model_name": "DescriptionStyleModel",
          "state": {
            "_model_module": "@jupyter-widgets/controls",
            "_model_module_version": "1.5.0",
            "_model_name": "DescriptionStyleModel",
            "_view_count": null,
            "_view_module": "@jupyter-widgets/base",
            "_view_module_version": "1.2.0",
            "_view_name": "StyleView",
            "description_width": ""
          }
        }
      }
    }
  },
  "nbformat": 4,
  "nbformat_minor": 0
}
